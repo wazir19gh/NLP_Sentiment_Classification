{
 "cells": [
  {
   "cell_type": "markdown",
   "metadata": {},
   "source": [
    "## BASIC SENTIMENT ANALYSIS"
   ]
  },
  {
   "cell_type": "markdown",
   "metadata": {},
   "source": [
    "### PROBLEM STATEMENT:-\n",
    "\n",
    "We are given a labelled dataset which has the text and the sentiment associated with it which is either neutral or negative. This kind of a problem is often referred to as a sentiment analysis problem.\n",
    "\n",
    "### TASK:-\n",
    "\n",
    "The task or the objective of this problem is to classify an unknown text into neutral or negative by building a model which would learn the mapping from the input text to the labels thereby achieving the task on the unseen test data point."
   ]
  },
  {
   "cell_type": "markdown",
   "metadata": {},
   "source": [
    "### BRIEF ABOUT THE DATA:-\n",
    "\n",
    "There are around 18,999 text or sentiments given. These are the columns/features in the data given to us representing each text:-\n",
    "\n",
    "1) <b>TextID</b> - A unique ID representing each text.\n",
    "\n",
    "2) <b>Text</b> - The text denoting what a person said.\n",
    "\n",
    "3) <b>Sentiment</b> - The label given to the data which denotes whether the text or the speech said is negative or neutral."
   ]
  },
  {
   "cell_type": "markdown",
   "metadata": {},
   "source": [
    "### BUSINESS CONSTRAINT:-\n",
    "\n",
    "1) The model built should not miss out the negative sentiment essentially meaning that all the negative sentiment texts should be aimed to be captured.\n",
    "\n",
    "2) The model should not take too long to give the sentiment of a text.\n",
    "\n",
    "### MAPPING TO A ML PROBLEM:-\n",
    "\n",
    "As this is a problem with a labelled text, so it is a supervised Machine Learning Problem which is a binary classification problem with two labels as neutral or negative.\n",
    "\n",
    "### POSITIVE CLASS OF INTEREST:-\n",
    "\n",
    "We would consider negative as the positive class of interest which we don't want to miss out.\n",
    "\n",
    "### PERFORMANCE METRIC:-\n",
    "\n",
    "We would try to predict all the negatives which are present in the given training data as accurately as possible, which is infact the positive class of interest. So, we would try to maximize the <b> Recall </b> of the ML algorithm and would choose the right threshold for classifying a given text as negative for the same."
   ]
  },
  {
   "cell_type": "markdown",
   "metadata": {},
   "source": [
    "### EDA AND PREPROCESSING OF THE DATA:-\n",
    "\n",
    "<b> EDA would include the following:- </b>\n",
    "\n",
    "1) Checking the number of rows and columns of the data.\n",
    "\n",
    "2) Checking for no text and removing the same.\n",
    "\n",
    "3) Checking for duplicate text and removing the same.\n",
    "\n",
    "4) Checking the distribution of the two classes negative and neutral.\n",
    "\n",
    "5) Checking the top 5% frequently occuring words in each class.\n",
    "\n",
    "6) Checking the top 5% IDF scores for each class.\n",
    "\n",
    "<b> Preprocessing of the data would include:- </b>\n",
    "\n",
    "1) Decontracting the data as replacing aren't with are not, isn't with is not and so on...\n",
    "\n",
    "2) Removal of punctuation marks from the whole data.\n",
    "\n",
    "3) Removal of stopwords from the whole data which should be a customized set of stop words as we have to keep the stop word not in our data as it is a major determining factor of a negative sentiment.\n",
    "\n",
    "4) Removal of numbers.\n",
    "\n",
    "5) Removal of any braces which would denote HTML tags.\n",
    "\n",
    "6) Removal of any other special characters except the alphabets.\n",
    "\n",
    "7) Converting every word to lowercase."
   ]
  },
  {
   "cell_type": "markdown",
   "metadata": {},
   "source": [
    "### TOOLS/ENVIRONMENT USED:-\n",
    "\n",
    "Python Jupyter Notebook"
   ]
  },
  {
   "cell_type": "markdown",
   "metadata": {},
   "source": [
    "### EDA AND PREPROCESSING OF THE DATA"
   ]
  },
  {
   "cell_type": "code",
   "execution_count": 1,
   "metadata": {},
   "outputs": [
    {
     "name": "stderr",
     "output_type": "stream",
     "text": [
      "[nltk_data] Downloading package wordnet to\n",
      "[nltk_data]     C:\\Users\\Wazir\\AppData\\Roaming\\nltk_data...\n",
      "[nltk_data]   Package wordnet is already up-to-date!\n"
     ]
    }
   ],
   "source": [
    "# Importing the libraries\n",
    "\n",
    "import pandas as pd\n",
    "import numpy as np\n",
    "import matplotlib.pyplot as plt\n",
    "import re\n",
    "#from nltk.stem import PorterStemmer,SnowballStemmer\n",
    "from nltk.stem import WordNetLemmatizer\n",
    "import math\n",
    "import nltk\n",
    "nltk.download('wordnet')\n",
    "from collections import Counter\n",
    "import os\n",
    "from wordcloud import WordCloud"
   ]
  },
  {
   "cell_type": "code",
   "execution_count": 2,
   "metadata": {},
   "outputs": [],
   "source": [
    "# Reading the data\n",
    "\n",
    "data = pd.read_csv('data.csv')"
   ]
  },
  {
   "cell_type": "code",
   "execution_count": 3,
   "metadata": {},
   "outputs": [
    {
     "data": {
      "text/html": [
       "<div>\n",
       "<style scoped>\n",
       "    .dataframe tbody tr th:only-of-type {\n",
       "        vertical-align: middle;\n",
       "    }\n",
       "\n",
       "    .dataframe tbody tr th {\n",
       "        vertical-align: top;\n",
       "    }\n",
       "\n",
       "    .dataframe thead th {\n",
       "        text-align: right;\n",
       "    }\n",
       "</style>\n",
       "<table border=\"1\" class=\"dataframe\">\n",
       "  <thead>\n",
       "    <tr style=\"text-align: right;\">\n",
       "      <th></th>\n",
       "      <th>textID</th>\n",
       "      <th>text</th>\n",
       "      <th>sentiment</th>\n",
       "    </tr>\n",
       "  </thead>\n",
       "  <tbody>\n",
       "    <tr>\n",
       "      <th>0</th>\n",
       "      <td>2a0463352b</td>\n",
       "      <td>that`s enough! I`ll do nothing for 2 hours.</td>\n",
       "      <td>neutral</td>\n",
       "    </tr>\n",
       "    <tr>\n",
       "      <th>1</th>\n",
       "      <td>f358968122</td>\n",
       "      <td>I have to go clothes shopping tomorrow  I hate...</td>\n",
       "      <td>negative</td>\n",
       "    </tr>\n",
       "    <tr>\n",
       "      <th>2</th>\n",
       "      <td>449e7733f1</td>\n",
       "      <td>i am bored. :| any idea`s of a nice site?</td>\n",
       "      <td>neutral</td>\n",
       "    </tr>\n",
       "    <tr>\n",
       "      <th>3</th>\n",
       "      <td>6099baf6e8</td>\n",
       "      <td>I don`t think  will want to come back  (guys r...</td>\n",
       "      <td>negative</td>\n",
       "    </tr>\n",
       "    <tr>\n",
       "      <th>4</th>\n",
       "      <td>f946da7a04</td>\n",
       "      <td>_thomas if only the drinking game was tonight....</td>\n",
       "      <td>neutral</td>\n",
       "    </tr>\n",
       "  </tbody>\n",
       "</table>\n",
       "</div>"
      ],
      "text/plain": [
       "       textID                                               text sentiment\n",
       "0  2a0463352b        that`s enough! I`ll do nothing for 2 hours.   neutral\n",
       "1  f358968122  I have to go clothes shopping tomorrow  I hate...  negative\n",
       "2  449e7733f1          i am bored. :| any idea`s of a nice site?   neutral\n",
       "3  6099baf6e8  I don`t think  will want to come back  (guys r...  negative\n",
       "4  f946da7a04  _thomas if only the drinking game was tonight....   neutral"
      ]
     },
     "execution_count": 3,
     "metadata": {},
     "output_type": "execute_result"
    }
   ],
   "source": [
    "# Checking the top 5 rows of the data\n",
    "\n",
    "data.head()"
   ]
  },
  {
   "cell_type": "code",
   "execution_count": 4,
   "metadata": {},
   "outputs": [
    {
     "name": "stdout",
     "output_type": "stream",
     "text": [
      "The data has 18899 number of texts and 3 number of given features\n"
     ]
    }
   ],
   "source": [
    "# Checking the shape of the data\n",
    "\n",
    "print(\"The data has {} number of texts and {} number of given features\".format(data.shape[0],data.shape[1]))"
   ]
  },
  {
   "cell_type": "code",
   "execution_count": 5,
   "metadata": {},
   "outputs": [
    {
     "data": {
      "text/html": [
       "<div>\n",
       "<style scoped>\n",
       "    .dataframe tbody tr th:only-of-type {\n",
       "        vertical-align: middle;\n",
       "    }\n",
       "\n",
       "    .dataframe tbody tr th {\n",
       "        vertical-align: top;\n",
       "    }\n",
       "\n",
       "    .dataframe thead th {\n",
       "        text-align: right;\n",
       "    }\n",
       "</style>\n",
       "<table border=\"1\" class=\"dataframe\">\n",
       "  <thead>\n",
       "    <tr style=\"text-align: right;\">\n",
       "      <th></th>\n",
       "      <th>sentiment</th>\n",
       "      <th>no_of_text</th>\n",
       "      <th>percentage</th>\n",
       "    </tr>\n",
       "  </thead>\n",
       "  <tbody>\n",
       "    <tr>\n",
       "      <th>0</th>\n",
       "      <td>neutral</td>\n",
       "      <td>11118</td>\n",
       "      <td>0.588285</td>\n",
       "    </tr>\n",
       "    <tr>\n",
       "      <th>1</th>\n",
       "      <td>negative</td>\n",
       "      <td>7781</td>\n",
       "      <td>0.411715</td>\n",
       "    </tr>\n",
       "  </tbody>\n",
       "</table>\n",
       "</div>"
      ],
      "text/plain": [
       "  sentiment  no_of_text  percentage\n",
       "0   neutral       11118    0.588285\n",
       "1  negative        7781    0.411715"
      ]
     },
     "execution_count": 5,
     "metadata": {},
     "output_type": "execute_result"
    }
   ],
   "source": [
    "# Checking the distribution of the classes negative and neutral\n",
    "\n",
    "# Checking the frequency of the class labels in the given training data\n",
    "class_distdf = data.sentiment.value_counts().reset_index()\n",
    "\n",
    "# Renaming the columns\n",
    "class_distdf.columns = ['sentiment','no_of_text']\n",
    "\n",
    "# Getting the percentage of the class labels\n",
    "class_distdf['percentage'] = class_distdf['no_of_text'].values/np.sum(class_distdf.no_of_text, axis=0)\n",
    "\n",
    "class_distdf"
   ]
  },
  {
   "cell_type": "code",
   "execution_count": 6,
   "metadata": {},
   "outputs": [
    {
     "data": {
      "text/plain": [
       "Text(0.5, 1.0, 'Bar Plot showing the distribution of the sentiments')"
      ]
     },
     "execution_count": 6,
     "metadata": {},
     "output_type": "execute_result"
    },
    {
     "data": {
      "image/png": "[encoded data removed]",
      "text/plain": [
       "<Figure size 720x360 with 1 Axes>"
      ]
     },
     "metadata": {
      "needs_background": "light"
     },
     "output_type": "display_data"
    }
   ],
   "source": [
    "# Visualizing the bar plot of the sentiment columns for a better understanding\n",
    "\n",
    "plt.figure(figsize = (10,5))\n",
    "plt.bar(class_distdf.sentiment, class_distdf.percentage, color = 'blue', width = 0.4)\n",
    "plt.xlabel('Sentiment of the text')\n",
    "plt.ylabel('Percentage of data points')\n",
    "plt.title('Bar Plot showing the distribution of the sentiments')"
   ]
  },
  {
   "cell_type": "markdown",
   "metadata": {},
   "source": [
    "#### OBSERVATIONS:-\n",
    "\n",
    "1) The dataset given is a slightly imbalanced dataset with the positive class of interest having a slight skew."
   ]
  },
  {
   "cell_type": "markdown",
   "metadata": {},
   "source": [
    "#### REMOVAL OF EMPTY AND DUPLICATE ROWS"
   ]
  },
  {
   "cell_type": "code",
   "execution_count": 7,
   "metadata": {},
   "outputs": [],
   "source": [
    "# Replacing the nan values with space\n",
    "\n",
    "data.fillna('', inplace=True)"
   ]
  },
  {
   "cell_type": "code",
   "execution_count": 8,
   "metadata": {},
   "outputs": [],
   "source": [
    "# Checking for no text\n",
    "\n",
    "def check_no_text(df, col_index):\n",
    "    return [i for i in range(len(df)) if len(str(df.iloc[i,col_index]).split())==0]"
   ]
  },
  {
   "cell_type": "code",
   "execution_count": 9,
   "metadata": {},
   "outputs": [
    {
     "data": {
      "text/plain": [
       "[8384]"
      ]
     },
     "execution_count": 9,
     "metadata": {},
     "output_type": "execute_result"
    }
   ],
   "source": [
    "# Calling the function check_no_text to check the index which has no text\n",
    "\n",
    "list_of_indices = check_no_text(data, 1)\n",
    "\n",
    "list_of_indices"
   ]
  },
  {
   "cell_type": "code",
   "execution_count": 10,
   "metadata": {},
   "outputs": [],
   "source": [
    "# Dropping the row which has no text\n",
    "\n",
    "data = data.drop(labels = list_of_indices, axis = 0)"
   ]
  },
  {
   "cell_type": "code",
   "execution_count": 11,
   "metadata": {},
   "outputs": [
    {
     "data": {
      "text/html": [
       "<div>\n",
       "<style scoped>\n",
       "    .dataframe tbody tr th:only-of-type {\n",
       "        vertical-align: middle;\n",
       "    }\n",
       "\n",
       "    .dataframe tbody tr th {\n",
       "        vertical-align: top;\n",
       "    }\n",
       "\n",
       "    .dataframe thead th {\n",
       "        text-align: right;\n",
       "    }\n",
       "</style>\n",
       "<table border=\"1\" class=\"dataframe\">\n",
       "  <thead>\n",
       "    <tr style=\"text-align: right;\">\n",
       "      <th></th>\n",
       "      <th>textID</th>\n",
       "      <th>text</th>\n",
       "      <th>sentiment</th>\n",
       "    </tr>\n",
       "  </thead>\n",
       "  <tbody>\n",
       "  </tbody>\n",
       "</table>\n",
       "</div>"
      ],
      "text/plain": [
       "Empty DataFrame\n",
       "Columns: [textID, text, sentiment]\n",
       "Index: []"
      ]
     },
     "execution_count": 11,
     "metadata": {},
     "output_type": "execute_result"
    }
   ],
   "source": [
    "# Checking whether there are two same textIDs in the data\n",
    "\n",
    "duplicate_IDs = data[data.duplicated(subset = 'textID')]\n",
    "\n",
    "duplicate_IDs"
   ]
  },
  {
   "cell_type": "code",
   "execution_count": 12,
   "metadata": {},
   "outputs": [
    {
     "data": {
      "text/html": [
       "<div>\n",
       "<style scoped>\n",
       "    .dataframe tbody tr th:only-of-type {\n",
       "        vertical-align: middle;\n",
       "    }\n",
       "\n",
       "    .dataframe tbody tr th {\n",
       "        vertical-align: top;\n",
       "    }\n",
       "\n",
       "    .dataframe thead th {\n",
       "        text-align: right;\n",
       "    }\n",
       "</style>\n",
       "<table border=\"1\" class=\"dataframe\">\n",
       "  <thead>\n",
       "    <tr style=\"text-align: right;\">\n",
       "      <th></th>\n",
       "      <th>textID</th>\n",
       "      <th>text</th>\n",
       "      <th>sentiment</th>\n",
       "    </tr>\n",
       "  </thead>\n",
       "  <tbody>\n",
       "    <tr>\n",
       "      <th>5336</th>\n",
       "      <td>45cb1d1717</td>\n",
       "      <td>i cant afford it  go to school here ? !!</td>\n",
       "      <td>negative</td>\n",
       "    </tr>\n",
       "    <tr>\n",
       "      <th>9207</th>\n",
       "      <td>6fa830e24a</td>\n",
       "      <td>morning</td>\n",
       "      <td>neutral</td>\n",
       "    </tr>\n",
       "    <tr>\n",
       "      <th>10703</th>\n",
       "      <td>7d0aa849f1</td>\n",
       "      <td>Why?</td>\n",
       "      <td>neutral</td>\n",
       "    </tr>\n",
       "    <tr>\n",
       "      <th>10793</th>\n",
       "      <td>d22019f8da</td>\n",
       "      <td>iPhone is doing that 'not opening downloaded a...</td>\n",
       "      <td>negative</td>\n",
       "    </tr>\n",
       "    <tr>\n",
       "      <th>11636</th>\n",
       "      <td>511d2b0355</td>\n",
       "      <td>I see</td>\n",
       "      <td>neutral</td>\n",
       "    </tr>\n",
       "    <tr>\n",
       "      <th>13139</th>\n",
       "      <td>3335c809b2</td>\n",
       "      <td>G`night!</td>\n",
       "      <td>neutral</td>\n",
       "    </tr>\n",
       "    <tr>\n",
       "      <th>13216</th>\n",
       "      <td>3b921ccd0b</td>\n",
       "      <td>I`m sorry.</td>\n",
       "      <td>negative</td>\n",
       "    </tr>\n",
       "    <tr>\n",
       "      <th>13431</th>\n",
       "      <td>5fff4f9b99</td>\n",
       "      <td>I`m at work</td>\n",
       "      <td>neutral</td>\n",
       "    </tr>\n",
       "    <tr>\n",
       "      <th>15265</th>\n",
       "      <td>936fd9b728</td>\n",
       "      <td>salt and vinegar</td>\n",
       "      <td>neutral</td>\n",
       "    </tr>\n",
       "    <tr>\n",
       "      <th>15922</th>\n",
       "      <td>1aa63342fb</td>\n",
       "      <td>I miss you</td>\n",
       "      <td>negative</td>\n",
       "    </tr>\n",
       "  </tbody>\n",
       "</table>\n",
       "</div>"
      ],
      "text/plain": [
       "           textID                                               text sentiment\n",
       "5336   45cb1d1717           i cant afford it  go to school here ? !!  negative\n",
       "9207   6fa830e24a                                            morning   neutral\n",
       "10703  7d0aa849f1                                               Why?   neutral\n",
       "10793  d22019f8da  iPhone is doing that 'not opening downloaded a...  negative\n",
       "11636  511d2b0355                                              I see   neutral\n",
       "13139  3335c809b2                                           G`night!   neutral\n",
       "13216  3b921ccd0b                                         I`m sorry.  negative\n",
       "13431  5fff4f9b99                                        I`m at work   neutral\n",
       "15265  936fd9b728                                   salt and vinegar   neutral\n",
       "15922  1aa63342fb                                         I miss you  negative"
      ]
     },
     "execution_count": 12,
     "metadata": {},
     "output_type": "execute_result"
    }
   ],
   "source": [
    "# Checking whether there are two same texts in the data\n",
    "\n",
    "duplicate_text = data[data.duplicated(subset = ['text','sentiment'])]\n",
    "\n",
    "duplicate_text"
   ]
  },
  {
   "cell_type": "code",
   "execution_count": 13,
   "metadata": {},
   "outputs": [],
   "source": [
    "data = data.drop(labels = list(duplicate_text.index), axis = 0)"
   ]
  },
  {
   "cell_type": "code",
   "execution_count": 14,
   "metadata": {},
   "outputs": [
    {
     "data": {
      "text/html": [
       "<div>\n",
       "<style scoped>\n",
       "    .dataframe tbody tr th:only-of-type {\n",
       "        vertical-align: middle;\n",
       "    }\n",
       "\n",
       "    .dataframe tbody tr th {\n",
       "        vertical-align: top;\n",
       "    }\n",
       "\n",
       "    .dataframe thead th {\n",
       "        text-align: right;\n",
       "    }\n",
       "</style>\n",
       "<table border=\"1\" class=\"dataframe\">\n",
       "  <thead>\n",
       "    <tr style=\"text-align: right;\">\n",
       "      <th></th>\n",
       "      <th>textID</th>\n",
       "      <th>text</th>\n",
       "      <th>sentiment</th>\n",
       "    </tr>\n",
       "  </thead>\n",
       "  <tbody>\n",
       "  </tbody>\n",
       "</table>\n",
       "</div>"
      ],
      "text/plain": [
       "Empty DataFrame\n",
       "Columns: [textID, text, sentiment]\n",
       "Index: []"
      ]
     },
     "execution_count": 14,
     "metadata": {},
     "output_type": "execute_result"
    }
   ],
   "source": [
    "# Checking for any remaining duplicate entries again after deleting the above rows\n",
    "\n",
    "duplicate_text1 = data[data.duplicated(subset = ['text','sentiment'])]\n",
    "\n",
    "duplicate_text1"
   ]
  },
  {
   "cell_type": "code",
   "execution_count": 15,
   "metadata": {},
   "outputs": [
    {
     "data": {
      "text/html": [
       "<div>\n",
       "<style scoped>\n",
       "    .dataframe tbody tr th:only-of-type {\n",
       "        vertical-align: middle;\n",
       "    }\n",
       "\n",
       "    .dataframe tbody tr th {\n",
       "        vertical-align: top;\n",
       "    }\n",
       "\n",
       "    .dataframe thead th {\n",
       "        text-align: right;\n",
       "    }\n",
       "</style>\n",
       "<table border=\"1\" class=\"dataframe\">\n",
       "  <thead>\n",
       "    <tr style=\"text-align: right;\">\n",
       "      <th></th>\n",
       "      <th>sentiment</th>\n",
       "      <th>no_of_text</th>\n",
       "      <th>percentage</th>\n",
       "    </tr>\n",
       "  </thead>\n",
       "  <tbody>\n",
       "    <tr>\n",
       "      <th>0</th>\n",
       "      <td>neutral</td>\n",
       "      <td>11111</td>\n",
       "      <td>0.588257</td>\n",
       "    </tr>\n",
       "    <tr>\n",
       "      <th>1</th>\n",
       "      <td>negative</td>\n",
       "      <td>7777</td>\n",
       "      <td>0.411743</td>\n",
       "    </tr>\n",
       "  </tbody>\n",
       "</table>\n",
       "</div>"
      ],
      "text/plain": [
       "  sentiment  no_of_text  percentage\n",
       "0   neutral       11111    0.588257\n",
       "1  negative        7777    0.411743"
      ]
     },
     "execution_count": 15,
     "metadata": {},
     "output_type": "execute_result"
    }
   ],
   "source": [
    "# Checking the distribution of the classes negative and neutral after removing duplicates\n",
    "\n",
    "# Checking the frequency of the class labels in the given training data\n",
    "class_distdf1 = data.sentiment.value_counts().reset_index()\n",
    "\n",
    "# Renaming the columns\n",
    "class_distdf1.columns = ['sentiment','no_of_text']\n",
    "\n",
    "# Getting the percentage of the class labels\n",
    "class_distdf1['percentage'] = class_distdf1['no_of_text'].values/np.sum(class_distdf1.no_of_text, axis=0)\n",
    "\n",
    "class_distdf1"
   ]
  },
  {
   "cell_type": "code",
   "execution_count": 16,
   "metadata": {},
   "outputs": [
    {
     "data": {
      "text/plain": [
       "Text(0.5, 1.0, 'Bar Plot showing the distribution of the sentiments')"
      ]
     },
     "execution_count": 16,
     "metadata": {},
     "output_type": "execute_result"
    },
    {
     "data": {
      "image/png": "[encoded data removed]",
      "text/plain": [
       "<Figure size 720x360 with 1 Axes>"
      ]
     },
     "metadata": {
      "needs_background": "light"
     },
     "output_type": "display_data"
    }
   ],
   "source": [
    "# Visualizing the bar plot of the sentiment columns for a better understanding\n",
    "\n",
    "plt.figure(figsize = (10,5))\n",
    "plt.bar(class_distdf.sentiment, class_distdf.percentage, color = 'blue', width = 0.4)\n",
    "plt.xlabel('Sentiment of the text')\n",
    "plt.ylabel('Percentage of data points')\n",
    "plt.title('Bar Plot showing the distribution of the sentiments')"
   ]
  },
  {
   "cell_type": "markdown",
   "metadata": {},
   "source": [
    "### DATA PREPROCESSING"
   ]
  },
  {
   "cell_type": "markdown",
   "metadata": {},
   "source": [
    "#### DECONTRACTING"
   ]
  },
  {
   "cell_type": "code",
   "execution_count": 17,
   "metadata": {},
   "outputs": [],
   "source": [
    "# Defining the function decontracted\n",
    "\n",
    "def decontracted(phrase):\n",
    "    # specific\n",
    "    phrase = re.sub(r\"won\\`t\", \"will not\", phrase)\n",
    "    phrase = re.sub(r\"can\\`t\", \"can not\", phrase)\n",
    "    # general\n",
    "    phrase = re.sub(r\"n\\`t\", \" not\", phrase)\n",
    "    phrase = re.sub(r\"\\`re\", \" are\", phrase)\n",
    "    phrase = re.sub(r\"\\`s\", \" is\", phrase)\n",
    "    phrase = re.sub(r\"\\`d\", \" would\", phrase)\n",
    "    phrase = re.sub(r\"\\`ll\", \" will\", phrase)\n",
    "    phrase = re.sub(r\"\\`t\", \" not\", phrase)\n",
    "    phrase = re.sub(r\"\\`ve\", \" have\", phrase)\n",
    "    phrase = re.sub(r\"\\`m\", \" am\", phrase)\n",
    "    return phrase"
   ]
  },
  {
   "cell_type": "markdown",
   "metadata": {},
   "source": [
    "#### DEFINING THE OWN SET OF STOPWORDS"
   ]
  },
  {
   "cell_type": "code",
   "execution_count": 18,
   "metadata": {},
   "outputs": [],
   "source": [
    "# Defining the custom stop word list\n",
    "\n",
    "stopwords= ['i', 'me', 'my', 'myself', 'we', 'our', 'ours', 'ourselves', 'you', \"you're\", \"you've\",\\\n",
    "            \"you'll\", \"you'd\", 'your', 'yours', 'yourself', 'yourselves', 'he', 'him', 'his', 'himself', \\\n",
    "            'she', \"she's\", 'her', 'hers', 'herself', 'it', \"it's\", 'its', 'itself', 'they', 'them', 'their',\\\n",
    "            'theirs', 'themselves', 'what', 'which', 'who', 'whom', 'this', 'that', \"that'll\", 'these', 'those', \\\n",
    "            'am', 'is', 'are', 'was', 'were', 'be', 'been', 'being', 'have', 'has', 'had', 'having', 'do', 'does', \\\n",
    "            'did', 'doing', 'a', 'an', 'the', 'and', 'but', 'if', 'or', 'because', 'as', 'until', 'while', 'of', \\\n",
    "            'at', 'by', 'for', 'with', 'about', 'against', 'between', 'into', 'through', 'during', 'before', 'after',\\\n",
    "            'above', 'below', 'to', 'from', 'up', 'down', 'in', 'out', 'on', 'off', 'over', 'under', 'again', 'further',\\\n",
    "            'then', 'once', 'here', 'there', 'when', 'where', 'why', 'how', 'all', 'any', 'both', 'each', 'few', 'more',\\\n",
    "            'most', 'other', 'some', 'such', 'only', 'own', 'same', 'so', 'than', 'too', 'very', \\\n",
    "            's', 't', 'can', 'will', 'just', 'don', 'should', 'now', 'd', 'll', 'm', 'o', 're', \\\n",
    "            've', 'y', 'ain', 'aren', 'couldn', 'didn', 'doesn', 'hadn','hasn', 'haven','isn', 'ma',\\\n",
    "            'mightn','mustn','needn', 'shan', \"shan't\", 'shouldn', 'wasn', 'weren', 'won', 'wouldn']"
   ]
  },
  {
   "cell_type": "markdown",
   "metadata": {},
   "source": [
    "#### CLEANING OR PREPROCESSING"
   ]
  },
  {
   "cell_type": "code",
   "execution_count": 19,
   "metadata": {},
   "outputs": [],
   "source": [
    "def preprocess(text_array):\n",
    "    # Initializing an empty list named preprocessed_total_train\n",
    "    preprocessed_text = []\n",
    "\n",
    "    for sentence in text_array:\n",
    "        sentence = str(sentence)\n",
    "        sent = decontracted(sentence)\n",
    "        sent = sent.replace('\\\\r',' ')\n",
    "        sent = sent.replace('\\\\t',' ')\n",
    "        sent = sent.replace('\\\\\"',' ')\n",
    "        sent = sent.replace('\\\\n',' ')\n",
    "        sent = re.sub('[0-9]+',' ',sent)\n",
    "        sent = re.sub('[^A-Za-z]+',' ',sent)\n",
    "        sent = re.sub('[!\"#$%&\\'()*+,-./:;<=>?@[\\\\]^_`{|}~]+',' ',sent) # Removing the punctuations\n",
    "        sent = ' '.join(e for e in sent.split() if e.lower() not in stopwords and len(e)>=3)\n",
    "        preprocessed_text.append(sent.lower().strip())\n",
    "    return preprocessed_text"
   ]
  },
  {
   "cell_type": "markdown",
   "metadata": {},
   "source": [
    "#### CLEANING THE GIVEN TEXT"
   ]
  },
  {
   "cell_type": "code",
   "execution_count": 20,
   "metadata": {},
   "outputs": [],
   "source": [
    "# Taking the cleaned values in a list\n",
    "preprocessed_text = preprocess(data['text'].values)"
   ]
  },
  {
   "cell_type": "code",
   "execution_count": 21,
   "metadata": {},
   "outputs": [
    {
     "data": {
      "text/html": [
       "<div>\n",
       "<style scoped>\n",
       "    .dataframe tbody tr th:only-of-type {\n",
       "        vertical-align: middle;\n",
       "    }\n",
       "\n",
       "    .dataframe tbody tr th {\n",
       "        vertical-align: top;\n",
       "    }\n",
       "\n",
       "    .dataframe thead th {\n",
       "        text-align: right;\n",
       "    }\n",
       "</style>\n",
       "<table border=\"1\" class=\"dataframe\">\n",
       "  <thead>\n",
       "    <tr style=\"text-align: right;\">\n",
       "      <th></th>\n",
       "      <th>textID</th>\n",
       "      <th>text</th>\n",
       "      <th>sentiment</th>\n",
       "      <th>preprocessed_text</th>\n",
       "    </tr>\n",
       "  </thead>\n",
       "  <tbody>\n",
       "    <tr>\n",
       "      <th>0</th>\n",
       "      <td>2a0463352b</td>\n",
       "      <td>that`s enough! I`ll do nothing for 2 hours.</td>\n",
       "      <td>neutral</td>\n",
       "      <td>enough nothing hours</td>\n",
       "    </tr>\n",
       "    <tr>\n",
       "      <th>1</th>\n",
       "      <td>f358968122</td>\n",
       "      <td>I have to go clothes shopping tomorrow  I hate...</td>\n",
       "      <td>negative</td>\n",
       "      <td>clothes shopping tomorrow hate serious clothes...</td>\n",
       "    </tr>\n",
       "    <tr>\n",
       "      <th>2</th>\n",
       "      <td>449e7733f1</td>\n",
       "      <td>i am bored. :| any idea`s of a nice site?</td>\n",
       "      <td>neutral</td>\n",
       "      <td>bored idea nice site</td>\n",
       "    </tr>\n",
       "    <tr>\n",
       "      <th>3</th>\n",
       "      <td>6099baf6e8</td>\n",
       "      <td>I don`t think  will want to come back  (guys r...</td>\n",
       "      <td>negative</td>\n",
       "      <td>not think want come back guys read dms</td>\n",
       "    </tr>\n",
       "    <tr>\n",
       "      <th>4</th>\n",
       "      <td>f946da7a04</td>\n",
       "      <td>_thomas if only the drinking game was tonight....</td>\n",
       "      <td>neutral</td>\n",
       "      <td>thomas drinking game tonight not work till tom...</td>\n",
       "    </tr>\n",
       "  </tbody>\n",
       "</table>\n",
       "</div>"
      ],
      "text/plain": [
       "       textID                                               text sentiment  \\\n",
       "0  2a0463352b        that`s enough! I`ll do nothing for 2 hours.   neutral   \n",
       "1  f358968122  I have to go clothes shopping tomorrow  I hate...  negative   \n",
       "2  449e7733f1          i am bored. :| any idea`s of a nice site?   neutral   \n",
       "3  6099baf6e8  I don`t think  will want to come back  (guys r...  negative   \n",
       "4  f946da7a04  _thomas if only the drinking game was tonight....   neutral   \n",
       "\n",
       "                                   preprocessed_text  \n",
       "0                               enough nothing hours  \n",
       "1  clothes shopping tomorrow hate serious clothes...  \n",
       "2                               bored idea nice site  \n",
       "3             not think want come back guys read dms  \n",
       "4  thomas drinking game tonight not work till tom...  "
      ]
     },
     "execution_count": 21,
     "metadata": {},
     "output_type": "execute_result"
    }
   ],
   "source": [
    "# Adding the column preprocessed_text in the dataframe\n",
    "data['preprocessed_text'] = preprocessed_text\n",
    "\n",
    "# Checking the first five rows of the dataframe\n",
    "data.head()"
   ]
  },
  {
   "cell_type": "markdown",
   "metadata": {},
   "source": [
    "#### PERFORMING LEMMATIZATION WITH ADJECTIVE AS POS"
   ]
  },
  {
   "cell_type": "code",
   "execution_count": 22,
   "metadata": {},
   "outputs": [],
   "source": [
    "lemmatizer = WordNetLemmatizer()\n",
    "\n",
    "def lemmatize(text_array):\n",
    "    # Initializing an empty list named preprocessed_total_train\n",
    "    preprocessed_text = []\n",
    "    \n",
    "    for sentence in text_array:\n",
    "        lemmatized_words = [lemmatizer.lemmatize(word, pos = \"a\") for word in sentence.split()]        \n",
    "        preprocessed_text.append(\" \".join(word for word in lemmatized_words))\n",
    "    return preprocessed_text"
   ]
  },
  {
   "cell_type": "code",
   "execution_count": 23,
   "metadata": {},
   "outputs": [],
   "source": [
    "# Taking the cleaned values in a list\n",
    "lemmatized_text = lemmatize(data['preprocessed_text'].values)"
   ]
  },
  {
   "cell_type": "code",
   "execution_count": 24,
   "metadata": {},
   "outputs": [
    {
     "data": {
      "text/html": [
       "<div>\n",
       "<style scoped>\n",
       "    .dataframe tbody tr th:only-of-type {\n",
       "        vertical-align: middle;\n",
       "    }\n",
       "\n",
       "    .dataframe tbody tr th {\n",
       "        vertical-align: top;\n",
       "    }\n",
       "\n",
       "    .dataframe thead th {\n",
       "        text-align: right;\n",
       "    }\n",
       "</style>\n",
       "<table border=\"1\" class=\"dataframe\">\n",
       "  <thead>\n",
       "    <tr style=\"text-align: right;\">\n",
       "      <th></th>\n",
       "      <th>textID</th>\n",
       "      <th>text</th>\n",
       "      <th>sentiment</th>\n",
       "      <th>preprocessed_text</th>\n",
       "    </tr>\n",
       "  </thead>\n",
       "  <tbody>\n",
       "    <tr>\n",
       "      <th>0</th>\n",
       "      <td>2a0463352b</td>\n",
       "      <td>that`s enough! I`ll do nothing for 2 hours.</td>\n",
       "      <td>neutral</td>\n",
       "      <td>enough nothing hours</td>\n",
       "    </tr>\n",
       "    <tr>\n",
       "      <th>1</th>\n",
       "      <td>f358968122</td>\n",
       "      <td>I have to go clothes shopping tomorrow  I hate...</td>\n",
       "      <td>negative</td>\n",
       "      <td>clothes shopping tomorrow hate serious clothes...</td>\n",
       "    </tr>\n",
       "    <tr>\n",
       "      <th>2</th>\n",
       "      <td>449e7733f1</td>\n",
       "      <td>i am bored. :| any idea`s of a nice site?</td>\n",
       "      <td>neutral</td>\n",
       "      <td>bored idea nice site</td>\n",
       "    </tr>\n",
       "    <tr>\n",
       "      <th>3</th>\n",
       "      <td>6099baf6e8</td>\n",
       "      <td>I don`t think  will want to come back  (guys r...</td>\n",
       "      <td>negative</td>\n",
       "      <td>not think want come back guys read dms</td>\n",
       "    </tr>\n",
       "    <tr>\n",
       "      <th>4</th>\n",
       "      <td>f946da7a04</td>\n",
       "      <td>_thomas if only the drinking game was tonight....</td>\n",
       "      <td>neutral</td>\n",
       "      <td>thomas drinking game tonight not work till tom...</td>\n",
       "    </tr>\n",
       "  </tbody>\n",
       "</table>\n",
       "</div>"
      ],
      "text/plain": [
       "       textID                                               text sentiment  \\\n",
       "0  2a0463352b        that`s enough! I`ll do nothing for 2 hours.   neutral   \n",
       "1  f358968122  I have to go clothes shopping tomorrow  I hate...  negative   \n",
       "2  449e7733f1          i am bored. :| any idea`s of a nice site?   neutral   \n",
       "3  6099baf6e8  I don`t think  will want to come back  (guys r...  negative   \n",
       "4  f946da7a04  _thomas if only the drinking game was tonight....   neutral   \n",
       "\n",
       "                                   preprocessed_text  \n",
       "0                               enough nothing hours  \n",
       "1  clothes shopping tomorrow hate serious clothes...  \n",
       "2                               bored idea nice site  \n",
       "3             not think want come back guys read dms  \n",
       "4  thomas drinking game tonight not work till tom...  "
      ]
     },
     "execution_count": 24,
     "metadata": {},
     "output_type": "execute_result"
    }
   ],
   "source": [
    "data['preprocessed_text'] = lemmatized_text\n",
    "\n",
    "# Checking the first five rows of the dataframe\n",
    "data.head()"
   ]
  },
  {
   "cell_type": "markdown",
   "metadata": {},
   "source": [
    "#### ENCODING THE LEVELS OF SENTIMENT"
   ]
  },
  {
   "cell_type": "code",
   "execution_count": 25,
   "metadata": {},
   "outputs": [],
   "source": [
    "data['class'] = np.where(data['sentiment'] == 'negative',1,0)"
   ]
  },
  {
   "cell_type": "code",
   "execution_count": 26,
   "metadata": {},
   "outputs": [
    {
     "data": {
      "text/html": [
       "<div>\n",
       "<style scoped>\n",
       "    .dataframe tbody tr th:only-of-type {\n",
       "        vertical-align: middle;\n",
       "    }\n",
       "\n",
       "    .dataframe tbody tr th {\n",
       "        vertical-align: top;\n",
       "    }\n",
       "\n",
       "    .dataframe thead th {\n",
       "        text-align: right;\n",
       "    }\n",
       "</style>\n",
       "<table border=\"1\" class=\"dataframe\">\n",
       "  <thead>\n",
       "    <tr style=\"text-align: right;\">\n",
       "      <th></th>\n",
       "      <th>textID</th>\n",
       "      <th>text</th>\n",
       "      <th>sentiment</th>\n",
       "      <th>preprocessed_text</th>\n",
       "      <th>class</th>\n",
       "    </tr>\n",
       "  </thead>\n",
       "  <tbody>\n",
       "    <tr>\n",
       "      <th>0</th>\n",
       "      <td>2a0463352b</td>\n",
       "      <td>that`s enough! I`ll do nothing for 2 hours.</td>\n",
       "      <td>neutral</td>\n",
       "      <td>enough nothing hours</td>\n",
       "      <td>0</td>\n",
       "    </tr>\n",
       "    <tr>\n",
       "      <th>1</th>\n",
       "      <td>f358968122</td>\n",
       "      <td>I have to go clothes shopping tomorrow  I hate...</td>\n",
       "      <td>negative</td>\n",
       "      <td>clothes shopping tomorrow hate serious clothes...</td>\n",
       "      <td>1</td>\n",
       "    </tr>\n",
       "    <tr>\n",
       "      <th>2</th>\n",
       "      <td>449e7733f1</td>\n",
       "      <td>i am bored. :| any idea`s of a nice site?</td>\n",
       "      <td>neutral</td>\n",
       "      <td>bored idea nice site</td>\n",
       "      <td>0</td>\n",
       "    </tr>\n",
       "    <tr>\n",
       "      <th>3</th>\n",
       "      <td>6099baf6e8</td>\n",
       "      <td>I don`t think  will want to come back  (guys r...</td>\n",
       "      <td>negative</td>\n",
       "      <td>not think want come back guys read dms</td>\n",
       "      <td>1</td>\n",
       "    </tr>\n",
       "    <tr>\n",
       "      <th>4</th>\n",
       "      <td>f946da7a04</td>\n",
       "      <td>_thomas if only the drinking game was tonight....</td>\n",
       "      <td>neutral</td>\n",
       "      <td>thomas drinking game tonight not work till tom...</td>\n",
       "      <td>0</td>\n",
       "    </tr>\n",
       "  </tbody>\n",
       "</table>\n",
       "</div>"
      ],
      "text/plain": [
       "       textID                                               text sentiment  \\\n",
       "0  2a0463352b        that`s enough! I`ll do nothing for 2 hours.   neutral   \n",
       "1  f358968122  I have to go clothes shopping tomorrow  I hate...  negative   \n",
       "2  449e7733f1          i am bored. :| any idea`s of a nice site?   neutral   \n",
       "3  6099baf6e8  I don`t think  will want to come back  (guys r...  negative   \n",
       "4  f946da7a04  _thomas if only the drinking game was tonight....   neutral   \n",
       "\n",
       "                                   preprocessed_text  class  \n",
       "0                               enough nothing hours      0  \n",
       "1  clothes shopping tomorrow hate serious clothes...      1  \n",
       "2                               bored idea nice site      0  \n",
       "3             not think want come back guys read dms      1  \n",
       "4  thomas drinking game tonight not work till tom...      0  "
      ]
     },
     "execution_count": 26,
     "metadata": {},
     "output_type": "execute_result"
    }
   ],
   "source": [
    "# Checking the top 5 rows of the data\n",
    "\n",
    "data.head()"
   ]
  },
  {
   "cell_type": "markdown",
   "metadata": {},
   "source": [
    "#### CHECKING THE TOP 20 MOST FREQUENTLY OCCURING WORDS FOR EACH CLASS"
   ]
  },
  {
   "cell_type": "markdown",
   "metadata": {},
   "source": [
    "#### NEGATIVE SENTIMENT OR THE POSITIVE CLASS OF INTEREST"
   ]
  },
  {
   "cell_type": "code",
   "execution_count": 27,
   "metadata": {},
   "outputs": [],
   "source": [
    "# Subsetting the negative class\n",
    "\n",
    "df_negative = data[data['class'] == 1]"
   ]
  },
  {
   "cell_type": "code",
   "execution_count": 28,
   "metadata": {},
   "outputs": [],
   "source": [
    "# Initializing a dictionary to store the unique list of words with words as keys and values as frequency of words occuring\n",
    "\n",
    "unique_words_neg = {}\n",
    "\n",
    "for text in df_negative.preprocessed_text.values:\n",
    "    for word in text.split():\n",
    "        if word in unique_words_neg.keys():\n",
    "            unique_words_neg[word] += 1\n",
    "        else:\n",
    "            unique_words_neg[word] = 1        "
   ]
  },
  {
   "cell_type": "code",
   "execution_count": 29,
   "metadata": {},
   "outputs": [],
   "source": [
    "# Sorting the dictionary in descending order of values\n",
    "sorted_unique_words_neg = dict(sorted(unique_words_neg.items(), key = lambda item:item[1], reverse = True))"
   ]
  },
  {
   "cell_type": "code",
   "execution_count": 30,
   "metadata": {},
   "outputs": [
    {
     "name": "stdout",
     "output_type": "stream",
     "text": [
      "The top 5% of the most frequently occuring words are 536\n"
     ]
    }
   ],
   "source": [
    "print(\"The top 5% of the most frequently occuring words are {}\".format(int(0.05*len(sorted_unique_words_neg))))"
   ]
  },
  {
   "cell_type": "code",
   "execution_count": 31,
   "metadata": {},
   "outputs": [
    {
     "data": {
      "text/plain": [
       "Text(0.5, 1.0, 'Bar Plot showing the frequency of words for negative sentiment')"
      ]
     },
     "execution_count": 31,
     "metadata": {},
     "output_type": "execute_result"
    },
    {
     "data": {
      "image/png": "[encoded data removed]",
      "text/plain": [
       "<Figure size 720x360 with 1 Axes>"
      ]
     },
     "metadata": {
      "needs_background": "light"
     },
     "output_type": "display_data"
    }
   ],
   "source": [
    "# Visualizing the top 20 words in terms of the frequencies as 5% of the unique words would not be clearly visible in a bar plot\n",
    "\n",
    "x = [k for k in list(sorted_unique_words_neg.keys())[0:20]]\n",
    "y = [v for v in list(sorted_unique_words_neg.values())[0:20]]\n",
    "\n",
    "plt.figure(figsize = (10,5))\n",
    "plt.bar(x,y,color = 'blue', width = 0.4)\n",
    "plt.xlabel('Word')\n",
    "plt.ylabel('Frequency of occurrence')\n",
    "plt.title('Bar Plot showing the frequency of words for negative sentiment')"
   ]
  },
  {
   "cell_type": "markdown",
   "metadata": {},
   "source": [
    "#### NEUTRAL SENTIMENT OR THE NEGATIVE CLASS"
   ]
  },
  {
   "cell_type": "code",
   "execution_count": 32,
   "metadata": {},
   "outputs": [],
   "source": [
    "# Subsetting the neutral class\n",
    "\n",
    "df_neutral = data[data['class'] == 0]"
   ]
  },
  {
   "cell_type": "code",
   "execution_count": 33,
   "metadata": {},
   "outputs": [],
   "source": [
    "# Initializing a dictionary to store the unique list of words with words as keys and values as frequency of words occuring\n",
    "\n",
    "unique_words_neu = {}\n",
    "\n",
    "for text in df_neutral.preprocessed_text.values:\n",
    "    for word in text.split():\n",
    "        if word in unique_words_neu.keys():\n",
    "            unique_words_neu[word] += 1\n",
    "        else:\n",
    "            unique_words_neu[word] = 1"
   ]
  },
  {
   "cell_type": "code",
   "execution_count": 34,
   "metadata": {},
   "outputs": [],
   "source": [
    "# Sorting the dictionary in descending order of values\n",
    "\n",
    "sorted_unique_words_neu = dict(sorted(unique_words_neu.items(), key = lambda item:item[1], reverse = True))"
   ]
  },
  {
   "cell_type": "code",
   "execution_count": 35,
   "metadata": {},
   "outputs": [
    {
     "name": "stdout",
     "output_type": "stream",
     "text": [
      "The top 5% of the most frequently occuring words for neutral sentiment are 692\n"
     ]
    }
   ],
   "source": [
    "print(\"The top 5% of the most frequently occuring words for neutral sentiment are {}\".format(int(0.05*len(sorted_unique_words_neu))))"
   ]
  },
  {
   "cell_type": "code",
   "execution_count": 36,
   "metadata": {},
   "outputs": [
    {
     "data": {
      "text/plain": [
       "Text(0.5, 1.0, 'Bar Plot showing the frequency of words for neutral sentiment')"
      ]
     },
     "execution_count": 36,
     "metadata": {},
     "output_type": "execute_result"
    },
    {
     "data": {
      "image/png": "[encoded data removed]",
      "text/plain": [
       "<Figure size 720x360 with 1 Axes>"
      ]
     },
     "metadata": {
      "needs_background": "light"
     },
     "output_type": "display_data"
    }
   ],
   "source": [
    "# Visualizing the top 20 words in terms of the frequencies as 5% of the unique words would not be clearly visible in a bar plot\n",
    "\n",
    "x = [k for k in list(sorted_unique_words_neu.keys())[0:20]]\n",
    "y = [v for v in list(sorted_unique_words_neu.values())[0:20]]\n",
    "\n",
    "plt.figure(figsize = (10,5))\n",
    "plt.bar(x,y,color = 'blue', width = 0.4)\n",
    "plt.xlabel('Word')\n",
    "plt.ylabel('Frequency of occurrence')\n",
    "plt.title('Bar Plot showing the frequency of words for neutral sentiment')"
   ]
  },
  {
   "cell_type": "markdown",
   "metadata": {},
   "source": [
    "#### CHECKING THE TOP 20 WORDS WITH THE HIGHEST IDF VALUES FOR EACH CLASS"
   ]
  },
  {
   "cell_type": "markdown",
   "metadata": {},
   "source": [
    "#### NEGATIVE SENTIMENT OR THE POSITIVE CLASS OF INTEREST"
   ]
  },
  {
   "cell_type": "code",
   "execution_count": 37,
   "metadata": {},
   "outputs": [],
   "source": [
    "def calculate_idf(dataset):\n",
    "    if isinstance(dataset,list):\n",
    "        unique_words = set()\n",
    "        for sentence in dataset:\n",
    "            for word in sentence.split(\" \"):\n",
    "                if len(word) < 2:\n",
    "                    continue\n",
    "                unique_words.add(word)\n",
    "        unique_words = sorted(list(unique_words))\n",
    "        \n",
    "        doc_freq = {}\n",
    "        idf_values = {}\n",
    "        for word in unique_words:\n",
    "            count = 0\n",
    "            for row in dataset:\n",
    "                if word in row:\n",
    "                    count+=1\n",
    "            doc_freq[word] = count\n",
    "            idf_values[word] = 1 + math.log((1+len(dataset))/(1+doc_freq[word]))\n",
    "        \n",
    "        #print(\"The idf values of the words of the vocabulary are: \",list(idf_values.values()))\n",
    "        \n",
    "        vocab = {j:i for i,j in enumerate(unique_words)}\n",
    "        return vocab, idf_values\n",
    "    else:\n",
    "        print(\"Please pass a list of sentences\")"
   ]
  },
  {
   "cell_type": "code",
   "execution_count": 38,
   "metadata": {},
   "outputs": [],
   "source": [
    "# Getting the vocabulary and the idf scores for negative sentiment\n",
    "\n",
    "vocab, idf_scores = calculate_idf(list(df_negative.preprocessed_text.values))"
   ]
  },
  {
   "cell_type": "code",
   "execution_count": 39,
   "metadata": {},
   "outputs": [],
   "source": [
    "# Getting the sorted idf scores\n",
    "\n",
    "sorted_idf_scores_neg = dict(sorted(idf_scores.items(), key = lambda item:item[1], reverse = True))"
   ]
  },
  {
   "cell_type": "code",
   "execution_count": 40,
   "metadata": {},
   "outputs": [
    {
     "name": "stdout",
     "output_type": "stream",
     "text": [
      "The top 5% of the least frequently occuring words with highest IDF scores for negative sentiment are 536\n"
     ]
    }
   ],
   "source": [
    "print(\"The top 5% of the least frequently occuring words with highest IDF scores for negative sentiment are {}\".format(int(0.05*len(sorted_idf_scores_neg))))"
   ]
  },
  {
   "cell_type": "code",
   "execution_count": 41,
   "metadata": {},
   "outputs": [
    {
     "data": {
      "text/plain": [
       "Text(0.5, 1.0, 'Bar Plot showing the idf scores of 5 words for negative sentiment')"
      ]
     },
     "execution_count": 41,
     "metadata": {},
     "output_type": "execute_result"
    },
    {
     "data": {
      "image/png": "[encoded data removed]",
      "text/plain": [
       "<Figure size 720x360 with 1 Axes>"
      ]
     },
     "metadata": {
      "needs_background": "light"
     },
     "output_type": "display_data"
    }
   ],
   "source": [
    "# Visualizing the top 5 words in terms of the frequencies as 5% of the unique words would not be clearly visible in a bar plot\n",
    "\n",
    "x = [k for k in list(sorted_idf_scores_neg.keys())[0:5]]\n",
    "y = [v for v in list(sorted_idf_scores_neg.values())[0:5]]\n",
    "\n",
    "plt.figure(figsize = (10,5))\n",
    "plt.bar(x,y,color = 'blue', width = 0.4)\n",
    "plt.xlabel('Word')\n",
    "plt.ylabel('IDF Scores')\n",
    "plt.title('Bar Plot showing the idf scores of 5 words for negative sentiment')"
   ]
  },
  {
   "cell_type": "code",
   "execution_count": 42,
   "metadata": {},
   "outputs": [
    {
     "name": "stdout",
     "output_type": "stream",
     "text": [
      "The top 20 words of negative sentiment with the highest IDF scores are \n",
      " ['aaaaaaaaaahhhhhhhh', 'aaaaarrrrggghhh', 'aaaaawwwwwww', 'aaaagggessss', 'aaaagh', 'aaargh', 'aaarrrgggghhh', 'aaarrrggghhh', 'aaarrrgh', 'aaron', 'aarrgghh', 'abandoning', 'abandonment', 'abang', 'abbreviate', 'abc', 'abean', 'abhor', 'abnormal', 'abouttttto'] \n",
      " and their corresponding IDF scores are \n",
      " [9.265907334155747, 9.265907334155747, 9.265907334155747, 9.265907334155747, 9.265907334155747, 9.265907334155747, 9.265907334155747, 9.265907334155747, 9.265907334155747, 9.265907334155747, 9.265907334155747, 9.265907334155747, 9.265907334155747, 9.265907334155747, 9.265907334155747, 9.265907334155747, 9.265907334155747, 9.265907334155747, 9.265907334155747, 9.265907334155747]\n"
     ]
    }
   ],
   "source": [
    "print(\"The top 20 words of negative sentiment with the highest IDF scores are \\n {} \\n and their corresponding IDF scores are \\n {}\".format(list(sorted_idf_scores_neg.keys())[0:20],list(sorted_idf_scores_neg.values())[0:20]))"
   ]
  },
  {
   "cell_type": "markdown",
   "metadata": {},
   "source": [
    "#### NEUTRAL SENTIMENT OR THE NEGATIVE CLASS"
   ]
  },
  {
   "cell_type": "code",
   "execution_count": 43,
   "metadata": {},
   "outputs": [
    {
     "name": "stdout",
     "output_type": "stream",
     "text": [
      "The top 5% of the least frequently occuring words with highest IDF scores for neutral sentiment are 692\n"
     ]
    }
   ],
   "source": [
    "# Getting the vocabulary and the idf scores for neutral sentiment\n",
    "\n",
    "vocab, idf_scores = calculate_idf(list(df_neutral.preprocessed_text.values))\n",
    "\n",
    "# Getting the sorted idf scores\n",
    "\n",
    "sorted_idf_scores_neu = dict(sorted(idf_scores.items(), key = lambda item:item[1], reverse = True))\n",
    "\n",
    "print(\"The top 5% of the least frequently occuring words with highest IDF scores for neutral sentiment are {}\".format(int(0.05*len(sorted_idf_scores_neu))))"
   ]
  },
  {
   "cell_type": "code",
   "execution_count": 44,
   "metadata": {},
   "outputs": [
    {
     "data": {
      "text/plain": [
       "Text(0.5, 1.0, 'Bar Plot showing the idf scores of 5 words for neutral sentiment')"
      ]
     },
     "execution_count": 44,
     "metadata": {},
     "output_type": "execute_result"
    },
    {
     "data": {
      "image/png": "[encoded data removed]",
      "text/plain": [
       "<Figure size 720x360 with 1 Axes>"
      ]
     },
     "metadata": {
      "needs_background": "light"
     },
     "output_type": "display_data"
    }
   ],
   "source": [
    "# Visualizing the top 5 words in terms of the idf scores as 5% of the unique words would not be clearly visible in a bar plot\n",
    "\n",
    "x = [k for k in list(sorted_idf_scores_neu.keys())[0:5]]\n",
    "y = [v for v in list(sorted_idf_scores_neu.values())[0:5]]\n",
    "\n",
    "plt.figure(figsize = (10,5))\n",
    "plt.bar(x,y,color = 'blue', width = 0.4)\n",
    "plt.xlabel('Word')\n",
    "plt.ylabel('IDF Scores')\n",
    "plt.title('Bar Plot showing the idf scores of 5 words for neutral sentiment')"
   ]
  },
  {
   "cell_type": "code",
   "execution_count": 45,
   "metadata": {},
   "outputs": [
    {
     "name": "stdout",
     "output_type": "stream",
     "text": [
      "The top 20 words of neutral sentiment with the highest IDF scores are \n",
      " ['aaaaaaaahhhhhhhh', 'aaaaaawwwesome', 'aaaaand', 'aaaargh', 'aaauuuggghhh', 'aaggh', 'aannndd', 'ababa', 'abbey', 'abbie', 'abbreviation', 'abc', 'abducted', 'aberdeen', 'ableton', 'abrjp', 'abroad', 'absence', 'absolves', 'abuzz'] \n",
      " and their corresponding IDF scores are \n",
      " [9.622633703874234, 9.622633703874234, 9.622633703874234, 9.622633703874234, 9.622633703874234, 9.622633703874234, 9.622633703874234, 9.622633703874234, 9.622633703874234, 9.622633703874234, 9.622633703874234, 9.622633703874234, 9.622633703874234, 9.622633703874234, 9.622633703874234, 9.622633703874234, 9.622633703874234, 9.622633703874234, 9.622633703874234, 9.622633703874234]\n"
     ]
    }
   ],
   "source": [
    "print(\"The top 20 words of neutral sentiment with the highest IDF scores are \\n {} \\n and their corresponding IDF scores are \\n {}\".format(list(sorted_idf_scores_neu.keys())[0:20],list(sorted_idf_scores_neu.values())[0:20]))"
   ]
  },
  {
   "cell_type": "markdown",
   "metadata": {},
   "source": [
    "#### REMOVING THE EMPTY ROWS FROM PREPROCESSED DATA"
   ]
  },
  {
   "cell_type": "code",
   "execution_count": 46,
   "metadata": {},
   "outputs": [
    {
     "data": {
      "text/plain": [
       "[18,\n",
       " 39,\n",
       " 201,\n",
       " 886,\n",
       " 1084,\n",
       " 2313,\n",
       " 2318,\n",
       " 2347,\n",
       " 2469,\n",
       " 2553,\n",
       " 2618,\n",
       " 2907,\n",
       " 2988,\n",
       " 3136,\n",
       " 3266,\n",
       " 3448,\n",
       " 3960,\n",
       " 4157,\n",
       " 4230,\n",
       " 4241,\n",
       " 4251,\n",
       " 4540,\n",
       " 4866,\n",
       " 5101,\n",
       " 5102,\n",
       " 6060,\n",
       " 6094,\n",
       " 6364,\n",
       " 6959,\n",
       " 7239,\n",
       " 7542,\n",
       " 7698,\n",
       " 7898,\n",
       " 7990,\n",
       " 8562,\n",
       " 8711,\n",
       " 8774,\n",
       " 8940,\n",
       " 9267,\n",
       " 9504,\n",
       " 9861,\n",
       " 9986,\n",
       " 10071,\n",
       " 10584,\n",
       " 10661,\n",
       " 10724,\n",
       " 10762,\n",
       " 10934,\n",
       " 11004,\n",
       " 11090,\n",
       " 11353,\n",
       " 11441,\n",
       " 11476,\n",
       " 11677,\n",
       " 11759,\n",
       " 11996,\n",
       " 12235,\n",
       " 12411,\n",
       " 12755,\n",
       " 13134,\n",
       " 13326,\n",
       " 13357,\n",
       " 13795,\n",
       " 13812,\n",
       " 13859,\n",
       " 13941,\n",
       " 14359,\n",
       " 14790,\n",
       " 14833,\n",
       " 15047,\n",
       " 15635,\n",
       " 15785,\n",
       " 15790,\n",
       " 15806,\n",
       " 16717,\n",
       " 17209,\n",
       " 17344,\n",
       " 17767,\n",
       " 17814,\n",
       " 18291,\n",
       " 18379,\n",
       " 18856,\n",
       " 18873]"
      ]
     },
     "execution_count": 46,
     "metadata": {},
     "output_type": "execute_result"
    }
   ],
   "source": [
    "data.fillna('', inplace=True)\n",
    "\n",
    "# Checking for no preprocessed text\n",
    "#def check_no_preprocessed_text(df):\n",
    "#    return [i for i in range(len(df)) if len(str(df.iloc[i,3]).split())==0]\n",
    "\n",
    "# Calling the function check_no_preprocessed_text to check the index which has no text\n",
    "\n",
    "list_of_indices = check_no_text(data,3)\n",
    "\n",
    "list_of_indices"
   ]
  },
  {
   "cell_type": "code",
   "execution_count": 47,
   "metadata": {},
   "outputs": [
    {
     "data": {
      "text/plain": [
       "(18805, 5)"
      ]
     },
     "execution_count": 47,
     "metadata": {},
     "output_type": "execute_result"
    }
   ],
   "source": [
    "# Dropping the rows which has no text\n",
    "\n",
    "data = data.drop(labels = list_of_indices, axis = 0)\n",
    "\n",
    "data.shape"
   ]
  },
  {
   "cell_type": "markdown",
   "metadata": {},
   "source": [
    "#### CHECKING AND REMOVING DUPLICATE PREPROCESSED TEXT"
   ]
  },
  {
   "cell_type": "code",
   "execution_count": 48,
   "metadata": {},
   "outputs": [
    {
     "data": {
      "text/html": [
       "<div>\n",
       "<style scoped>\n",
       "    .dataframe tbody tr th:only-of-type {\n",
       "        vertical-align: middle;\n",
       "    }\n",
       "\n",
       "    .dataframe tbody tr th {\n",
       "        vertical-align: top;\n",
       "    }\n",
       "\n",
       "    .dataframe thead th {\n",
       "        text-align: right;\n",
       "    }\n",
       "</style>\n",
       "<table border=\"1\" class=\"dataframe\">\n",
       "  <thead>\n",
       "    <tr style=\"text-align: right;\">\n",
       "      <th></th>\n",
       "      <th>textID</th>\n",
       "      <th>text</th>\n",
       "      <th>sentiment</th>\n",
       "      <th>preprocessed_text</th>\n",
       "      <th>class</th>\n",
       "    </tr>\n",
       "  </thead>\n",
       "  <tbody>\n",
       "    <tr>\n",
       "      <th>952</th>\n",
       "      <td>0872633f57</td>\n",
       "      <td>I am so sorry.</td>\n",
       "      <td>negative</td>\n",
       "      <td>sorry</td>\n",
       "      <td>1</td>\n",
       "    </tr>\n",
       "    <tr>\n",
       "      <th>1234</th>\n",
       "      <td>c795a94f0e</td>\n",
       "      <td>yes(: but now</td>\n",
       "      <td>neutral</td>\n",
       "      <td>yes</td>\n",
       "      <td>0</td>\n",
       "    </tr>\n",
       "    <tr>\n",
       "      <th>1249</th>\n",
       "      <td>b732cd6641</td>\n",
       "      <td>I`m sorry</td>\n",
       "      <td>negative</td>\n",
       "      <td>sorry</td>\n",
       "      <td>1</td>\n",
       "    </tr>\n",
       "    <tr>\n",
       "      <th>1616</th>\n",
       "      <td>68e3f60e14</td>\n",
       "      <td>Can`t believe ER is over</td>\n",
       "      <td>neutral</td>\n",
       "      <td>not believe</td>\n",
       "      <td>0</td>\n",
       "    </tr>\n",
       "    <tr>\n",
       "      <th>1769</th>\n",
       "      <td>3918fb5ad5</td>\n",
       "      <td>rain</td>\n",
       "      <td>neutral</td>\n",
       "      <td>rain</td>\n",
       "      <td>0</td>\n",
       "    </tr>\n",
       "    <tr>\n",
       "      <th>...</th>\n",
       "      <td>...</td>\n",
       "      <td>...</td>\n",
       "      <td>...</td>\n",
       "      <td>...</td>\n",
       "      <td>...</td>\n",
       "    </tr>\n",
       "    <tr>\n",
       "      <th>18832</th>\n",
       "      <td>7dbf5dc884</td>\n",
       "      <td>Hello twitter</td>\n",
       "      <td>neutral</td>\n",
       "      <td>hello twitter</td>\n",
       "      <td>0</td>\n",
       "    </tr>\n",
       "    <tr>\n",
       "      <th>18848</th>\n",
       "      <td>da0e6c9116</td>\n",
       "      <td>how do we know if we won?</td>\n",
       "      <td>neutral</td>\n",
       "      <td>know</td>\n",
       "      <td>0</td>\n",
       "    </tr>\n",
       "    <tr>\n",
       "      <th>18867</th>\n",
       "      <td>4b6f08e92c</td>\n",
       "      <td>me too bb</td>\n",
       "      <td>neutral</td>\n",
       "      <td></td>\n",
       "      <td>0</td>\n",
       "    </tr>\n",
       "    <tr>\n",
       "      <th>18877</th>\n",
       "      <td>bc2f4ee602</td>\n",
       "      <td>im at school right now</td>\n",
       "      <td>neutral</td>\n",
       "      <td>school right</td>\n",
       "      <td>0</td>\n",
       "    </tr>\n",
       "    <tr>\n",
       "      <th>18884</th>\n",
       "      <td>e20090d778</td>\n",
       "      <td>where u at?</td>\n",
       "      <td>neutral</td>\n",
       "      <td></td>\n",
       "      <td>0</td>\n",
       "    </tr>\n",
       "  </tbody>\n",
       "</table>\n",
       "<p>397 rows × 5 columns</p>\n",
       "</div>"
      ],
      "text/plain": [
       "           textID                       text sentiment preprocessed_text  \\\n",
       "952    0872633f57             I am so sorry.  negative             sorry   \n",
       "1234   c795a94f0e              yes(: but now   neutral               yes   \n",
       "1249   b732cd6641                  I`m sorry  negative             sorry   \n",
       "1616   68e3f60e14   Can`t believe ER is over   neutral       not believe   \n",
       "1769   3918fb5ad5                       rain   neutral              rain   \n",
       "...           ...                        ...       ...               ...   \n",
       "18832  7dbf5dc884              Hello twitter   neutral     hello twitter   \n",
       "18848  da0e6c9116  how do we know if we won?   neutral              know   \n",
       "18867  4b6f08e92c                  me too bb   neutral                     \n",
       "18877  bc2f4ee602     im at school right now   neutral      school right   \n",
       "18884  e20090d778                where u at?   neutral                     \n",
       "\n",
       "       class  \n",
       "952        1  \n",
       "1234       0  \n",
       "1249       1  \n",
       "1616       0  \n",
       "1769       0  \n",
       "...      ...  \n",
       "18832      0  \n",
       "18848      0  \n",
       "18867      0  \n",
       "18877      0  \n",
       "18884      0  \n",
       "\n",
       "[397 rows x 5 columns]"
      ]
     },
     "execution_count": 48,
     "metadata": {},
     "output_type": "execute_result"
    }
   ],
   "source": [
    "# Checking whether there are two same texts in the data\n",
    "\n",
    "duplicate_text = data[data.duplicated(subset = ['preprocessed_text','sentiment'])]\n",
    "\n",
    "duplicate_text"
   ]
  },
  {
   "cell_type": "code",
   "execution_count": 49,
   "metadata": {},
   "outputs": [
    {
     "data": {
      "text/html": [
       "<div>\n",
       "<style scoped>\n",
       "    .dataframe tbody tr th:only-of-type {\n",
       "        vertical-align: middle;\n",
       "    }\n",
       "\n",
       "    .dataframe tbody tr th {\n",
       "        vertical-align: top;\n",
       "    }\n",
       "\n",
       "    .dataframe thead th {\n",
       "        text-align: right;\n",
       "    }\n",
       "</style>\n",
       "<table border=\"1\" class=\"dataframe\">\n",
       "  <thead>\n",
       "    <tr style=\"text-align: right;\">\n",
       "      <th></th>\n",
       "      <th>textID</th>\n",
       "      <th>text</th>\n",
       "      <th>sentiment</th>\n",
       "      <th>preprocessed_text</th>\n",
       "      <th>class</th>\n",
       "    </tr>\n",
       "  </thead>\n",
       "  <tbody>\n",
       "  </tbody>\n",
       "</table>\n",
       "</div>"
      ],
      "text/plain": [
       "Empty DataFrame\n",
       "Columns: [textID, text, sentiment, preprocessed_text, class]\n",
       "Index: []"
      ]
     },
     "execution_count": 49,
     "metadata": {},
     "output_type": "execute_result"
    }
   ],
   "source": [
    "data = data.drop(labels = list(duplicate_text.index), axis = 0)\n",
    "\n",
    "# Checking for any remaining duplicate entries again after deleting the above rows\n",
    "\n",
    "duplicate_text1 = data[data.duplicated(subset = ['preprocessed_text','sentiment'])]\n",
    "\n",
    "duplicate_text1"
   ]
  },
  {
   "cell_type": "code",
   "execution_count": 50,
   "metadata": {},
   "outputs": [
    {
     "data": {
      "text/plain": [
       "(18408, 5)"
      ]
     },
     "execution_count": 50,
     "metadata": {},
     "output_type": "execute_result"
    }
   ],
   "source": [
    "data.shape"
   ]
  },
  {
   "cell_type": "markdown",
   "metadata": {},
   "source": [
    "#### FUNCTION TO GENERATE WORD CLOUD OF THE TOPMOST FREQUENTLY OCCURING 100 WORDS"
   ]
  },
  {
   "cell_type": "code",
   "execution_count": 51,
   "metadata": {},
   "outputs": [],
   "source": [
    "def generate_wordcloud(tup):\n",
    "    wcloud = WordCloud(background_color='white',\n",
    "                          max_words=50, max_font_size=40,\n",
    "                          random_state=42\n",
    "                         ).generate(str(tup))\n",
    "    return wcloud"
   ]
  },
  {
   "cell_type": "code",
   "execution_count": 52,
   "metadata": {},
   "outputs": [],
   "source": [
    "negative100 = Counter(data[data['sentiment'] == 'negative']['preprocessed_text']).most_common(100)\n",
    "neutral100 = Counter(data[data['sentiment'] == 'neutral']['preprocessed_text']).most_common(100)"
   ]
  },
  {
   "cell_type": "markdown",
   "metadata": {},
   "source": [
    "#### WORD CLOUD OF THE TOPMOST 100 FREQUENTLY OCCURING WORDS FOR NEGATIVE SENTIMENT"
   ]
  },
  {
   "cell_type": "code",
   "execution_count": 53,
   "metadata": {},
   "outputs": [
    {
     "data": {
      "image/png": "[encoded data removed]",
      "text/plain": [
       "<Figure size 576x576 with 1 Axes>"
      ]
     },
     "metadata": {
      "needs_background": "light"
     },
     "output_type": "display_data"
    }
   ],
   "source": [
    "plt.figure(figsize = (8,8), facecolor = None)\n",
    "plt.imshow(generate_wordcloud(negative100))\n",
    "plt.axis(\"off\")\n",
    "plt.title(\"The word cloud for the negative sentiment\")\n",
    "plt.show()"
   ]
  },
  {
   "cell_type": "markdown",
   "metadata": {},
   "source": [
    "#### WORD CLOUD OF THE TOPMOST 100 FREQUENTLY OCCURING WORDS FOR NEUTRAL SENTIMENT"
   ]
  },
  {
   "cell_type": "code",
   "execution_count": 54,
   "metadata": {},
   "outputs": [
    {
     "data": {
      "image/png": "[encoded data removed]",
      "text/plain": [
       "<Figure size 576x576 with 1 Axes>"
      ]
     },
     "metadata": {
      "needs_background": "light"
     },
     "output_type": "display_data"
    }
   ],
   "source": [
    "plt.figure(figsize = (8,8), facecolor = None)\n",
    "plt.imshow(generate_wordcloud(neutral100))\n",
    "plt.axis(\"off\")\n",
    "plt.title(\"The word cloud for the neutral sentiment\")\n",
    "plt.show()"
   ]
  },
  {
   "cell_type": "markdown",
   "metadata": {},
   "source": [
    "#### FEATURE-1 :- LENGTH OF THE PREPROCESSED TEXT"
   ]
  },
  {
   "cell_type": "code",
   "execution_count": 55,
   "metadata": {},
   "outputs": [],
   "source": [
    "data[\"Length_of_Preprocessed_Text\"] = data[\"preprocessed_text\"].apply(lambda x: len(x.split()))"
   ]
  },
  {
   "cell_type": "code",
   "execution_count": 56,
   "metadata": {},
   "outputs": [
    {
     "data": {
      "text/html": [
       "<div>\n",
       "<style scoped>\n",
       "    .dataframe tbody tr th:only-of-type {\n",
       "        vertical-align: middle;\n",
       "    }\n",
       "\n",
       "    .dataframe tbody tr th {\n",
       "        vertical-align: top;\n",
       "    }\n",
       "\n",
       "    .dataframe thead th {\n",
       "        text-align: right;\n",
       "    }\n",
       "</style>\n",
       "<table border=\"1\" class=\"dataframe\">\n",
       "  <thead>\n",
       "    <tr style=\"text-align: right;\">\n",
       "      <th></th>\n",
       "      <th>textID</th>\n",
       "      <th>text</th>\n",
       "      <th>sentiment</th>\n",
       "      <th>preprocessed_text</th>\n",
       "      <th>class</th>\n",
       "      <th>Length_of_Preprocessed_Text</th>\n",
       "    </tr>\n",
       "  </thead>\n",
       "  <tbody>\n",
       "    <tr>\n",
       "      <th>0</th>\n",
       "      <td>2a0463352b</td>\n",
       "      <td>that`s enough! I`ll do nothing for 2 hours.</td>\n",
       "      <td>neutral</td>\n",
       "      <td>enough nothing hours</td>\n",
       "      <td>0</td>\n",
       "      <td>3</td>\n",
       "    </tr>\n",
       "    <tr>\n",
       "      <th>1</th>\n",
       "      <td>f358968122</td>\n",
       "      <td>I have to go clothes shopping tomorrow  I hate...</td>\n",
       "      <td>negative</td>\n",
       "      <td>clothes shopping tomorrow hate serious clothes...</td>\n",
       "      <td>1</td>\n",
       "      <td>9</td>\n",
       "    </tr>\n",
       "    <tr>\n",
       "      <th>2</th>\n",
       "      <td>449e7733f1</td>\n",
       "      <td>i am bored. :| any idea`s of a nice site?</td>\n",
       "      <td>neutral</td>\n",
       "      <td>bored idea nice site</td>\n",
       "      <td>0</td>\n",
       "      <td>4</td>\n",
       "    </tr>\n",
       "    <tr>\n",
       "      <th>3</th>\n",
       "      <td>6099baf6e8</td>\n",
       "      <td>I don`t think  will want to come back  (guys r...</td>\n",
       "      <td>negative</td>\n",
       "      <td>not think want come back guys read dms</td>\n",
       "      <td>1</td>\n",
       "      <td>8</td>\n",
       "    </tr>\n",
       "    <tr>\n",
       "      <th>4</th>\n",
       "      <td>f946da7a04</td>\n",
       "      <td>_thomas if only the drinking game was tonight....</td>\n",
       "      <td>neutral</td>\n",
       "      <td>thomas drinking game tonight not work till tom...</td>\n",
       "      <td>0</td>\n",
       "      <td>8</td>\n",
       "    </tr>\n",
       "  </tbody>\n",
       "</table>\n",
       "</div>"
      ],
      "text/plain": [
       "       textID                                               text sentiment  \\\n",
       "0  2a0463352b        that`s enough! I`ll do nothing for 2 hours.   neutral   \n",
       "1  f358968122  I have to go clothes shopping tomorrow  I hate...  negative   \n",
       "2  449e7733f1          i am bored. :| any idea`s of a nice site?   neutral   \n",
       "3  6099baf6e8  I don`t think  will want to come back  (guys r...  negative   \n",
       "4  f946da7a04  _thomas if only the drinking game was tonight....   neutral   \n",
       "\n",
       "                                   preprocessed_text  class  \\\n",
       "0                               enough nothing hours      0   \n",
       "1  clothes shopping tomorrow hate serious clothes...      1   \n",
       "2                               bored idea nice site      0   \n",
       "3             not think want come back guys read dms      1   \n",
       "4  thomas drinking game tonight not work till tom...      0   \n",
       "\n",
       "   Length_of_Preprocessed_Text  \n",
       "0                            3  \n",
       "1                            9  \n",
       "2                            4  \n",
       "3                            8  \n",
       "4                            8  "
      ]
     },
     "execution_count": 56,
     "metadata": {},
     "output_type": "execute_result"
    }
   ],
   "source": [
    "data.head()"
   ]
  },
  {
   "cell_type": "code",
   "execution_count": 58,
   "metadata": {},
   "outputs": [],
   "source": [
    "col_order = [\"textID\",\"text\",\"sentiment\",\"preprocessed_text\",\"Length_of_Preprocessed_Text\",\"class\"]\n",
    "\n",
    "data = data[col_order]"
   ]
  },
  {
   "cell_type": "code",
   "execution_count": 59,
   "metadata": {},
   "outputs": [
    {
     "data": {
      "text/html": [
       "<div>\n",
       "<style scoped>\n",
       "    .dataframe tbody tr th:only-of-type {\n",
       "        vertical-align: middle;\n",
       "    }\n",
       "\n",
       "    .dataframe tbody tr th {\n",
       "        vertical-align: top;\n",
       "    }\n",
       "\n",
       "    .dataframe thead th {\n",
       "        text-align: right;\n",
       "    }\n",
       "</style>\n",
       "<table border=\"1\" class=\"dataframe\">\n",
       "  <thead>\n",
       "    <tr style=\"text-align: right;\">\n",
       "      <th></th>\n",
       "      <th>textID</th>\n",
       "      <th>text</th>\n",
       "      <th>sentiment</th>\n",
       "      <th>preprocessed_text</th>\n",
       "      <th>Length_of_Preprocessed_Text</th>\n",
       "      <th>class</th>\n",
       "    </tr>\n",
       "  </thead>\n",
       "  <tbody>\n",
       "    <tr>\n",
       "      <th>0</th>\n",
       "      <td>2a0463352b</td>\n",
       "      <td>that`s enough! I`ll do nothing for 2 hours.</td>\n",
       "      <td>neutral</td>\n",
       "      <td>enough nothing hours</td>\n",
       "      <td>3</td>\n",
       "      <td>0</td>\n",
       "    </tr>\n",
       "    <tr>\n",
       "      <th>1</th>\n",
       "      <td>f358968122</td>\n",
       "      <td>I have to go clothes shopping tomorrow  I hate...</td>\n",
       "      <td>negative</td>\n",
       "      <td>clothes shopping tomorrow hate serious clothes...</td>\n",
       "      <td>9</td>\n",
       "      <td>1</td>\n",
       "    </tr>\n",
       "    <tr>\n",
       "      <th>2</th>\n",
       "      <td>449e7733f1</td>\n",
       "      <td>i am bored. :| any idea`s of a nice site?</td>\n",
       "      <td>neutral</td>\n",
       "      <td>bored idea nice site</td>\n",
       "      <td>4</td>\n",
       "      <td>0</td>\n",
       "    </tr>\n",
       "    <tr>\n",
       "      <th>3</th>\n",
       "      <td>6099baf6e8</td>\n",
       "      <td>I don`t think  will want to come back  (guys r...</td>\n",
       "      <td>negative</td>\n",
       "      <td>not think want come back guys read dms</td>\n",
       "      <td>8</td>\n",
       "      <td>1</td>\n",
       "    </tr>\n",
       "    <tr>\n",
       "      <th>4</th>\n",
       "      <td>f946da7a04</td>\n",
       "      <td>_thomas if only the drinking game was tonight....</td>\n",
       "      <td>neutral</td>\n",
       "      <td>thomas drinking game tonight not work till tom...</td>\n",
       "      <td>8</td>\n",
       "      <td>0</td>\n",
       "    </tr>\n",
       "  </tbody>\n",
       "</table>\n",
       "</div>"
      ],
      "text/plain": [
       "       textID                                               text sentiment  \\\n",
       "0  2a0463352b        that`s enough! I`ll do nothing for 2 hours.   neutral   \n",
       "1  f358968122  I have to go clothes shopping tomorrow  I hate...  negative   \n",
       "2  449e7733f1          i am bored. :| any idea`s of a nice site?   neutral   \n",
       "3  6099baf6e8  I don`t think  will want to come back  (guys r...  negative   \n",
       "4  f946da7a04  _thomas if only the drinking game was tonight....   neutral   \n",
       "\n",
       "                                   preprocessed_text  \\\n",
       "0                               enough nothing hours   \n",
       "1  clothes shopping tomorrow hate serious clothes...   \n",
       "2                               bored idea nice site   \n",
       "3             not think want come back guys read dms   \n",
       "4  thomas drinking game tonight not work till tom...   \n",
       "\n",
       "   Length_of_Preprocessed_Text  class  \n",
       "0                            3      0  \n",
       "1                            9      1  \n",
       "2                            4      0  \n",
       "3                            8      1  \n",
       "4                            8      0  "
      ]
     },
     "execution_count": 59,
     "metadata": {},
     "output_type": "execute_result"
    }
   ],
   "source": [
    "data.head()"
   ]
  },
  {
   "cell_type": "markdown",
   "metadata": {},
   "source": [
    "#### FEATURE -2 :- SENTIMENT SCORE OF THE PREPROCESSED_TEXT"
   ]
  },
  {
   "cell_type": "code",
   "execution_count": 63,
   "metadata": {},
   "outputs": [
    {
     "name": "stderr",
     "output_type": "stream",
     "text": [
      "[nltk_data] Downloading package vader_lexicon to\n",
      "[nltk_data]     C:\\Users\\Wazir\\AppData\\Roaming\\nltk_data...\n",
      "[nltk_data]   Package vader_lexicon is already up-to-date!\n"
     ]
    },
    {
     "data": {
      "text/plain": [
       "[{'neg': 0.0, 'neu': 1.0, 'pos': 0.0, 'compound': 0.0},\n",
       " {'neg': 0.524, 'neu': 0.476, 'pos': 0.0, 'compound': -0.6808}]"
      ]
     },
     "execution_count": 63,
     "metadata": {},
     "output_type": "execute_result"
    }
   ],
   "source": [
    "# Downloading the vader_lexicon package\n",
    "from nltk.sentiment.vader import SentimentIntensityAnalyzer\n",
    "#import tqdm\n",
    "nltk.download('vader_lexicon')\n",
    "\n",
    "sid = SentimentIntensityAnalyzer()\n",
    "\n",
    "sentiment = []\n",
    "\n",
    "for sentence in data.preprocessed_text.values:\n",
    "    ss = sid.polarity_scores(str(sentence))\n",
    "    sentiment.append(ss)\n",
    "    \n",
    "# Checking the top 2 elements of train_sentiment\n",
    "sentiment[0:2]"
   ]
  },
  {
   "cell_type": "code",
   "execution_count": 64,
   "metadata": {},
   "outputs": [
    {
     "data": {
      "text/html": [
       "<div>\n",
       "<style scoped>\n",
       "    .dataframe tbody tr th:only-of-type {\n",
       "        vertical-align: middle;\n",
       "    }\n",
       "\n",
       "    .dataframe tbody tr th {\n",
       "        vertical-align: top;\n",
       "    }\n",
       "\n",
       "    .dataframe thead th {\n",
       "        text-align: right;\n",
       "    }\n",
       "</style>\n",
       "<table border=\"1\" class=\"dataframe\">\n",
       "  <thead>\n",
       "    <tr style=\"text-align: right;\">\n",
       "      <th></th>\n",
       "      <th>neg</th>\n",
       "      <th>neu</th>\n",
       "      <th>pos</th>\n",
       "      <th>compound</th>\n",
       "    </tr>\n",
       "  </thead>\n",
       "  <tbody>\n",
       "    <tr>\n",
       "      <th>0</th>\n",
       "      <td>0.000</td>\n",
       "      <td>1.000</td>\n",
       "      <td>0.000</td>\n",
       "      <td>0.0000</td>\n",
       "    </tr>\n",
       "    <tr>\n",
       "      <th>1</th>\n",
       "      <td>0.524</td>\n",
       "      <td>0.476</td>\n",
       "      <td>0.000</td>\n",
       "      <td>-0.6808</td>\n",
       "    </tr>\n",
       "    <tr>\n",
       "      <th>2</th>\n",
       "      <td>0.304</td>\n",
       "      <td>0.290</td>\n",
       "      <td>0.406</td>\n",
       "      <td>0.1779</td>\n",
       "    </tr>\n",
       "    <tr>\n",
       "      <th>3</th>\n",
       "      <td>0.149</td>\n",
       "      <td>0.851</td>\n",
       "      <td>0.000</td>\n",
       "      <td>-0.0572</td>\n",
       "    </tr>\n",
       "    <tr>\n",
       "      <th>4</th>\n",
       "      <td>0.000</td>\n",
       "      <td>1.000</td>\n",
       "      <td>0.000</td>\n",
       "      <td>0.0000</td>\n",
       "    </tr>\n",
       "  </tbody>\n",
       "</table>\n",
       "</div>"
      ],
      "text/plain": [
       "     neg    neu    pos  compound\n",
       "0  0.000  1.000  0.000    0.0000\n",
       "1  0.524  0.476  0.000   -0.6808\n",
       "2  0.304  0.290  0.406    0.1779\n",
       "3  0.149  0.851  0.000   -0.0572\n",
       "4  0.000  1.000  0.000    0.0000"
      ]
     },
     "execution_count": 64,
     "metadata": {},
     "output_type": "execute_result"
    }
   ],
   "source": [
    "# Converting the list of dictionaries into a dataframe\n",
    "\n",
    "sentiment_score_df = pd.DataFrame(sentiment)\n",
    "\n",
    "# Checking the first five rows of the dataframe\n",
    "\n",
    "sentiment_score_df.head()"
   ]
  },
  {
   "cell_type": "code",
   "execution_count": 65,
   "metadata": {},
   "outputs": [],
   "source": [
    "data[\"neg\"] = sentiment_score_df[\"neg\"]\n",
    "data[\"neu\"] = sentiment_score_df[\"neu\"]\n",
    "data[\"pos\"] = sentiment_score_df[\"pos\"]\n",
    "data[\"compound\"] = sentiment_score_df[\"compound\"]"
   ]
  },
  {
   "cell_type": "code",
   "execution_count": 66,
   "metadata": {},
   "outputs": [
    {
     "data": {
      "text/html": [
       "<div>\n",
       "<style scoped>\n",
       "    .dataframe tbody tr th:only-of-type {\n",
       "        vertical-align: middle;\n",
       "    }\n",
       "\n",
       "    .dataframe tbody tr th {\n",
       "        vertical-align: top;\n",
       "    }\n",
       "\n",
       "    .dataframe thead th {\n",
       "        text-align: right;\n",
       "    }\n",
       "</style>\n",
       "<table border=\"1\" class=\"dataframe\">\n",
       "  <thead>\n",
       "    <tr style=\"text-align: right;\">\n",
       "      <th></th>\n",
       "      <th>textID</th>\n",
       "      <th>text</th>\n",
       "      <th>sentiment</th>\n",
       "      <th>preprocessed_text</th>\n",
       "      <th>Length_of_Preprocessed_Text</th>\n",
       "      <th>class</th>\n",
       "      <th>neg</th>\n",
       "      <th>neu</th>\n",
       "      <th>pos</th>\n",
       "      <th>compound</th>\n",
       "    </tr>\n",
       "  </thead>\n",
       "  <tbody>\n",
       "    <tr>\n",
       "      <th>0</th>\n",
       "      <td>2a0463352b</td>\n",
       "      <td>that`s enough! I`ll do nothing for 2 hours.</td>\n",
       "      <td>neutral</td>\n",
       "      <td>enough nothing hours</td>\n",
       "      <td>3</td>\n",
       "      <td>0</td>\n",
       "      <td>0.000</td>\n",
       "      <td>1.000</td>\n",
       "      <td>0.000</td>\n",
       "      <td>0.0000</td>\n",
       "    </tr>\n",
       "    <tr>\n",
       "      <th>1</th>\n",
       "      <td>f358968122</td>\n",
       "      <td>I have to go clothes shopping tomorrow  I hate...</td>\n",
       "      <td>negative</td>\n",
       "      <td>clothes shopping tomorrow hate serious clothes...</td>\n",
       "      <td>9</td>\n",
       "      <td>1</td>\n",
       "      <td>0.524</td>\n",
       "      <td>0.476</td>\n",
       "      <td>0.000</td>\n",
       "      <td>-0.6808</td>\n",
       "    </tr>\n",
       "    <tr>\n",
       "      <th>2</th>\n",
       "      <td>449e7733f1</td>\n",
       "      <td>i am bored. :| any idea`s of a nice site?</td>\n",
       "      <td>neutral</td>\n",
       "      <td>bored idea nice site</td>\n",
       "      <td>4</td>\n",
       "      <td>0</td>\n",
       "      <td>0.304</td>\n",
       "      <td>0.290</td>\n",
       "      <td>0.406</td>\n",
       "      <td>0.1779</td>\n",
       "    </tr>\n",
       "    <tr>\n",
       "      <th>3</th>\n",
       "      <td>6099baf6e8</td>\n",
       "      <td>I don`t think  will want to come back  (guys r...</td>\n",
       "      <td>negative</td>\n",
       "      <td>not think want come back guys read dms</td>\n",
       "      <td>8</td>\n",
       "      <td>1</td>\n",
       "      <td>0.149</td>\n",
       "      <td>0.851</td>\n",
       "      <td>0.000</td>\n",
       "      <td>-0.0572</td>\n",
       "    </tr>\n",
       "    <tr>\n",
       "      <th>4</th>\n",
       "      <td>f946da7a04</td>\n",
       "      <td>_thomas if only the drinking game was tonight....</td>\n",
       "      <td>neutral</td>\n",
       "      <td>thomas drinking game tonight not work till tom...</td>\n",
       "      <td>8</td>\n",
       "      <td>0</td>\n",
       "      <td>0.000</td>\n",
       "      <td>1.000</td>\n",
       "      <td>0.000</td>\n",
       "      <td>0.0000</td>\n",
       "    </tr>\n",
       "  </tbody>\n",
       "</table>\n",
       "</div>"
      ],
      "text/plain": [
       "       textID                                               text sentiment  \\\n",
       "0  2a0463352b        that`s enough! I`ll do nothing for 2 hours.   neutral   \n",
       "1  f358968122  I have to go clothes shopping tomorrow  I hate...  negative   \n",
       "2  449e7733f1          i am bored. :| any idea`s of a nice site?   neutral   \n",
       "3  6099baf6e8  I don`t think  will want to come back  (guys r...  negative   \n",
       "4  f946da7a04  _thomas if only the drinking game was tonight....   neutral   \n",
       "\n",
       "                                   preprocessed_text  \\\n",
       "0                               enough nothing hours   \n",
       "1  clothes shopping tomorrow hate serious clothes...   \n",
       "2                               bored idea nice site   \n",
       "3             not think want come back guys read dms   \n",
       "4  thomas drinking game tonight not work till tom...   \n",
       "\n",
       "   Length_of_Preprocessed_Text  class    neg    neu    pos  compound  \n",
       "0                            3      0  0.000  1.000  0.000    0.0000  \n",
       "1                            9      1  0.524  0.476  0.000   -0.6808  \n",
       "2                            4      0  0.304  0.290  0.406    0.1779  \n",
       "3                            8      1  0.149  0.851  0.000   -0.0572  \n",
       "4                            8      0  0.000  1.000  0.000    0.0000  "
      ]
     },
     "execution_count": 66,
     "metadata": {},
     "output_type": "execute_result"
    }
   ],
   "source": [
    "data.head()"
   ]
  },
  {
   "cell_type": "code",
   "execution_count": 67,
   "metadata": {},
   "outputs": [],
   "source": [
    "col_order = [\"textID\",\"text\",\"preprocessed_text\",\"Length_of_Preprocessed_Text\",\"neg\",\"neu\",\"pos\",\"compound\",\"sentiment\",\"class\"]"
   ]
  },
  {
   "cell_type": "code",
   "execution_count": 68,
   "metadata": {},
   "outputs": [],
   "source": [
    "data = data[col_order]"
   ]
  },
  {
   "cell_type": "markdown",
   "metadata": {},
   "source": [
    "#### RUNNING ANOVA ON EACH OF THE SENTIMENT SCORE TO CHECK WHETHER THE MEANS OF BOTH THE CLASSES ARE DIFFERENT OR NOT"
   ]
  },
  {
   "cell_type": "code",
   "execution_count": 72,
   "metadata": {},
   "outputs": [
    {
     "data": {
      "text/html": [
       "<div>\n",
       "<style scoped>\n",
       "    .dataframe tbody tr th:only-of-type {\n",
       "        vertical-align: middle;\n",
       "    }\n",
       "\n",
       "    .dataframe tbody tr th {\n",
       "        vertical-align: top;\n",
       "    }\n",
       "\n",
       "    .dataframe thead th {\n",
       "        text-align: right;\n",
       "    }\n",
       "</style>\n",
       "<table border=\"1\" class=\"dataframe\">\n",
       "  <thead>\n",
       "    <tr style=\"text-align: right;\">\n",
       "      <th></th>\n",
       "      <th>sum_sq</th>\n",
       "      <th>df</th>\n",
       "      <th>F</th>\n",
       "      <th>PR(&gt;F)</th>\n",
       "    </tr>\n",
       "  </thead>\n",
       "  <tbody>\n",
       "    <tr>\n",
       "      <th>C(sentiment)</th>\n",
       "      <td>0.026143</td>\n",
       "      <td>1.0</td>\n",
       "      <td>0.562347</td>\n",
       "      <td>0.453326</td>\n",
       "    </tr>\n",
       "    <tr>\n",
       "      <th>Residual</th>\n",
       "      <td>833.594138</td>\n",
       "      <td>17931.0</td>\n",
       "      <td>NaN</td>\n",
       "      <td>NaN</td>\n",
       "    </tr>\n",
       "  </tbody>\n",
       "</table>\n",
       "</div>"
      ],
      "text/plain": [
       "                  sum_sq       df         F    PR(>F)\n",
       "C(sentiment)    0.026143      1.0  0.562347  0.453326\n",
       "Residual      833.594138  17931.0       NaN       NaN"
      ]
     },
     "execution_count": 72,
     "metadata": {},
     "output_type": "execute_result"
    }
   ],
   "source": [
    "import statsmodels.api as sm\n",
    "from statsmodels.formula.api import ols\n",
    "\n",
    "# Defining the significance level\n",
    "alpha = 0.05\n",
    "\n",
    "# Running anova on the neg feature\n",
    "model = ols('neg ~ C(sentiment)', data = data).fit()\n",
    "aov_table = sm.stats.anova_lm(model, typ=2)\n",
    "aov_table"
   ]
  },
  {
   "cell_type": "code",
   "execution_count": 73,
   "metadata": {},
   "outputs": [
    {
     "data": {
      "text/html": [
       "<div>\n",
       "<style scoped>\n",
       "    .dataframe tbody tr th:only-of-type {\n",
       "        vertical-align: middle;\n",
       "    }\n",
       "\n",
       "    .dataframe tbody tr th {\n",
       "        vertical-align: top;\n",
       "    }\n",
       "\n",
       "    .dataframe thead th {\n",
       "        text-align: right;\n",
       "    }\n",
       "</style>\n",
       "<table border=\"1\" class=\"dataframe\">\n",
       "  <thead>\n",
       "    <tr style=\"text-align: right;\">\n",
       "      <th></th>\n",
       "      <th>sum_sq</th>\n",
       "      <th>df</th>\n",
       "      <th>F</th>\n",
       "      <th>PR(&gt;F)</th>\n",
       "    </tr>\n",
       "  </thead>\n",
       "  <tbody>\n",
       "    <tr>\n",
       "      <th>C(sentiment)</th>\n",
       "      <td>0.020594</td>\n",
       "      <td>1.0</td>\n",
       "      <td>0.289203</td>\n",
       "      <td>0.590738</td>\n",
       "    </tr>\n",
       "    <tr>\n",
       "      <th>Residual</th>\n",
       "      <td>1276.885058</td>\n",
       "      <td>17931.0</td>\n",
       "      <td>NaN</td>\n",
       "      <td>NaN</td>\n",
       "    </tr>\n",
       "  </tbody>\n",
       "</table>\n",
       "</div>"
      ],
      "text/plain": [
       "                   sum_sq       df         F    PR(>F)\n",
       "C(sentiment)     0.020594      1.0  0.289203  0.590738\n",
       "Residual      1276.885058  17931.0       NaN       NaN"
      ]
     },
     "execution_count": 73,
     "metadata": {},
     "output_type": "execute_result"
    }
   ],
   "source": [
    "# Running anova on the neu feature\n",
    "model = ols('neu ~ C(sentiment)', data = data).fit()\n",
    "aov_table = sm.stats.anova_lm(model, typ=2)\n",
    "aov_table"
   ]
  },
  {
   "cell_type": "code",
   "execution_count": 74,
   "metadata": {},
   "outputs": [
    {
     "data": {
      "text/html": [
       "<div>\n",
       "<style scoped>\n",
       "    .dataframe tbody tr th:only-of-type {\n",
       "        vertical-align: middle;\n",
       "    }\n",
       "\n",
       "    .dataframe tbody tr th {\n",
       "        vertical-align: top;\n",
       "    }\n",
       "\n",
       "    .dataframe thead th {\n",
       "        text-align: right;\n",
       "    }\n",
       "</style>\n",
       "<table border=\"1\" class=\"dataframe\">\n",
       "  <thead>\n",
       "    <tr style=\"text-align: right;\">\n",
       "      <th></th>\n",
       "      <th>sum_sq</th>\n",
       "      <th>df</th>\n",
       "      <th>F</th>\n",
       "      <th>PR(&gt;F)</th>\n",
       "    </tr>\n",
       "  </thead>\n",
       "  <tbody>\n",
       "    <tr>\n",
       "      <th>C(sentiment)</th>\n",
       "      <td>0.085699</td>\n",
       "      <td>1.0</td>\n",
       "      <td>2.137804</td>\n",
       "      <td>0.143725</td>\n",
       "    </tr>\n",
       "    <tr>\n",
       "      <th>Residual</th>\n",
       "      <td>718.809816</td>\n",
       "      <td>17931.0</td>\n",
       "      <td>NaN</td>\n",
       "      <td>NaN</td>\n",
       "    </tr>\n",
       "  </tbody>\n",
       "</table>\n",
       "</div>"
      ],
      "text/plain": [
       "                  sum_sq       df         F    PR(>F)\n",
       "C(sentiment)    0.085699      1.0  2.137804  0.143725\n",
       "Residual      718.809816  17931.0       NaN       NaN"
      ]
     },
     "execution_count": 74,
     "metadata": {},
     "output_type": "execute_result"
    }
   ],
   "source": [
    "# Running anova on the pos feature\n",
    "model = ols('pos ~ C(sentiment)', data = data).fit()\n",
    "aov_table = sm.stats.anova_lm(model, typ=2)\n",
    "aov_table"
   ]
  },
  {
   "cell_type": "code",
   "execution_count": 75,
   "metadata": {},
   "outputs": [
    {
     "data": {
      "text/html": [
       "<div>\n",
       "<style scoped>\n",
       "    .dataframe tbody tr th:only-of-type {\n",
       "        vertical-align: middle;\n",
       "    }\n",
       "\n",
       "    .dataframe tbody tr th {\n",
       "        vertical-align: top;\n",
       "    }\n",
       "\n",
       "    .dataframe thead th {\n",
       "        text-align: right;\n",
       "    }\n",
       "</style>\n",
       "<table border=\"1\" class=\"dataframe\">\n",
       "  <thead>\n",
       "    <tr style=\"text-align: right;\">\n",
       "      <th></th>\n",
       "      <th>sum_sq</th>\n",
       "      <th>df</th>\n",
       "      <th>F</th>\n",
       "      <th>PR(&gt;F)</th>\n",
       "    </tr>\n",
       "  </thead>\n",
       "  <tbody>\n",
       "    <tr>\n",
       "      <th>C(sentiment)</th>\n",
       "      <td>0.335598</td>\n",
       "      <td>1.0</td>\n",
       "      <td>2.376303</td>\n",
       "      <td>0.123206</td>\n",
       "    </tr>\n",
       "    <tr>\n",
       "      <th>Residual</th>\n",
       "      <td>2532.343275</td>\n",
       "      <td>17931.0</td>\n",
       "      <td>NaN</td>\n",
       "      <td>NaN</td>\n",
       "    </tr>\n",
       "  </tbody>\n",
       "</table>\n",
       "</div>"
      ],
      "text/plain": [
       "                   sum_sq       df         F    PR(>F)\n",
       "C(sentiment)     0.335598      1.0  2.376303  0.123206\n",
       "Residual      2532.343275  17931.0       NaN       NaN"
      ]
     },
     "execution_count": 75,
     "metadata": {},
     "output_type": "execute_result"
    }
   ],
   "source": [
    "# Running anova on the compound feature\n",
    "model = ols('compound ~ C(sentiment)', data = data).fit()\n",
    "aov_table = sm.stats.anova_lm(model, typ=2)\n",
    "aov_table"
   ]
  },
  {
   "cell_type": "markdown",
   "metadata": {},
   "source": [
    "#### RUNNING ANOVA ON THE LENGTH OF THE PREPROCESSED TEXT"
   ]
  },
  {
   "cell_type": "code",
   "execution_count": 76,
   "metadata": {},
   "outputs": [
    {
     "data": {
      "text/html": [
       "<div>\n",
       "<style scoped>\n",
       "    .dataframe tbody tr th:only-of-type {\n",
       "        vertical-align: middle;\n",
       "    }\n",
       "\n",
       "    .dataframe tbody tr th {\n",
       "        vertical-align: top;\n",
       "    }\n",
       "\n",
       "    .dataframe thead th {\n",
       "        text-align: right;\n",
       "    }\n",
       "</style>\n",
       "<table border=\"1\" class=\"dataframe\">\n",
       "  <thead>\n",
       "    <tr style=\"text-align: right;\">\n",
       "      <th></th>\n",
       "      <th>sum_sq</th>\n",
       "      <th>df</th>\n",
       "      <th>F</th>\n",
       "      <th>PR(&gt;F)</th>\n",
       "    </tr>\n",
       "  </thead>\n",
       "  <tbody>\n",
       "    <tr>\n",
       "      <th>C(sentiment)</th>\n",
       "      <td>1183.099151</td>\n",
       "      <td>1.0</td>\n",
       "      <td>87.673376</td>\n",
       "      <td>8.587760e-21</td>\n",
       "    </tr>\n",
       "    <tr>\n",
       "      <th>Residual</th>\n",
       "      <td>248377.832401</td>\n",
       "      <td>18406.0</td>\n",
       "      <td>NaN</td>\n",
       "      <td>NaN</td>\n",
       "    </tr>\n",
       "  </tbody>\n",
       "</table>\n",
       "</div>"
      ],
      "text/plain": [
       "                     sum_sq       df          F        PR(>F)\n",
       "C(sentiment)    1183.099151      1.0  87.673376  8.587760e-21\n",
       "Residual      248377.832401  18406.0        NaN           NaN"
      ]
     },
     "execution_count": 76,
     "metadata": {},
     "output_type": "execute_result"
    }
   ],
   "source": [
    "# Running anova on the feature Length_of_Preprocessed_Text\n",
    "model = ols('Length_of_Preprocessed_Text ~ C(sentiment)', data = data).fit()\n",
    "aov_table = sm.stats.anova_lm(model, typ=2)\n",
    "aov_table"
   ]
  },
  {
   "cell_type": "markdown",
   "metadata": {},
   "source": [
    "#### OBSERVATIONS:-\n",
    "\n",
    "1) There were 83 rows with no preprocessed text which were deleted.\n",
    "\n",
    "2) There were 397 duplicate rows with same preprocessed text and sentiment which were deleted.\n",
    "\n",
    "3) The most rarely occuring words with the highest IDF values for negative and neutral sentiments are mentioned in cell nos. 42 and 45 respectively.\n",
    "\n",
    "4) The 20 most frequently occuring words for negative and neutral sentiments are plotted in cell no. 31 and 36.\n",
    "\n",
    "5) The duplicate row removal, stopwords and punctuations removal and lemmatization have been done as part of preprocessing.\n",
    "\n",
    "6) The Anova results show that the length of the preprocessed_text is an important determinant of the sentiment as the mean length of the preprocessed_text is different across the two different levels of sentiments."
   ]
  },
  {
   "cell_type": "markdown",
   "metadata": {},
   "source": [
    "#### CONCLUSION:-\n",
    "\n",
    "1) We would featurize the text data using TFIDF and BOW and would use the Length_Of_Preprocessed_Text as the other feature for fitting the various ML models."
   ]
  },
  {
   "cell_type": "markdown",
   "metadata": {},
   "source": [
    "#### SAVING THE FINAL PREPROCESSED DATA"
   ]
  },
  {
   "cell_type": "code",
   "execution_count": 77,
   "metadata": {},
   "outputs": [
    {
     "data": {
      "text/html": [
       "<div>\n",
       "<style scoped>\n",
       "    .dataframe tbody tr th:only-of-type {\n",
       "        vertical-align: middle;\n",
       "    }\n",
       "\n",
       "    .dataframe tbody tr th {\n",
       "        vertical-align: top;\n",
       "    }\n",
       "\n",
       "    .dataframe thead th {\n",
       "        text-align: right;\n",
       "    }\n",
       "</style>\n",
       "<table border=\"1\" class=\"dataframe\">\n",
       "  <thead>\n",
       "    <tr style=\"text-align: right;\">\n",
       "      <th></th>\n",
       "      <th>textID</th>\n",
       "      <th>text</th>\n",
       "      <th>preprocessed_text</th>\n",
       "      <th>Length_of_Preprocessed_Text</th>\n",
       "      <th>neg</th>\n",
       "      <th>neu</th>\n",
       "      <th>pos</th>\n",
       "      <th>compound</th>\n",
       "      <th>sentiment</th>\n",
       "      <th>class</th>\n",
       "    </tr>\n",
       "  </thead>\n",
       "  <tbody>\n",
       "    <tr>\n",
       "      <th>0</th>\n",
       "      <td>2a0463352b</td>\n",
       "      <td>that`s enough! I`ll do nothing for 2 hours.</td>\n",
       "      <td>enough nothing hours</td>\n",
       "      <td>3</td>\n",
       "      <td>0.000</td>\n",
       "      <td>1.000</td>\n",
       "      <td>0.000</td>\n",
       "      <td>0.0000</td>\n",
       "      <td>neutral</td>\n",
       "      <td>0</td>\n",
       "    </tr>\n",
       "    <tr>\n",
       "      <th>1</th>\n",
       "      <td>f358968122</td>\n",
       "      <td>I have to go clothes shopping tomorrow  I hate...</td>\n",
       "      <td>clothes shopping tomorrow hate serious clothes...</td>\n",
       "      <td>9</td>\n",
       "      <td>0.524</td>\n",
       "      <td>0.476</td>\n",
       "      <td>0.000</td>\n",
       "      <td>-0.6808</td>\n",
       "      <td>negative</td>\n",
       "      <td>1</td>\n",
       "    </tr>\n",
       "    <tr>\n",
       "      <th>2</th>\n",
       "      <td>449e7733f1</td>\n",
       "      <td>i am bored. :| any idea`s of a nice site?</td>\n",
       "      <td>bored idea nice site</td>\n",
       "      <td>4</td>\n",
       "      <td>0.304</td>\n",
       "      <td>0.290</td>\n",
       "      <td>0.406</td>\n",
       "      <td>0.1779</td>\n",
       "      <td>neutral</td>\n",
       "      <td>0</td>\n",
       "    </tr>\n",
       "    <tr>\n",
       "      <th>3</th>\n",
       "      <td>6099baf6e8</td>\n",
       "      <td>I don`t think  will want to come back  (guys r...</td>\n",
       "      <td>not think want come back guys read dms</td>\n",
       "      <td>8</td>\n",
       "      <td>0.149</td>\n",
       "      <td>0.851</td>\n",
       "      <td>0.000</td>\n",
       "      <td>-0.0572</td>\n",
       "      <td>negative</td>\n",
       "      <td>1</td>\n",
       "    </tr>\n",
       "    <tr>\n",
       "      <th>4</th>\n",
       "      <td>f946da7a04</td>\n",
       "      <td>_thomas if only the drinking game was tonight....</td>\n",
       "      <td>thomas drinking game tonight not work till tom...</td>\n",
       "      <td>8</td>\n",
       "      <td>0.000</td>\n",
       "      <td>1.000</td>\n",
       "      <td>0.000</td>\n",
       "      <td>0.0000</td>\n",
       "      <td>neutral</td>\n",
       "      <td>0</td>\n",
       "    </tr>\n",
       "  </tbody>\n",
       "</table>\n",
       "</div>"
      ],
      "text/plain": [
       "       textID                                               text  \\\n",
       "0  2a0463352b        that`s enough! I`ll do nothing for 2 hours.   \n",
       "1  f358968122  I have to go clothes shopping tomorrow  I hate...   \n",
       "2  449e7733f1          i am bored. :| any idea`s of a nice site?   \n",
       "3  6099baf6e8  I don`t think  will want to come back  (guys r...   \n",
       "4  f946da7a04  _thomas if only the drinking game was tonight....   \n",
       "\n",
       "                                   preprocessed_text  \\\n",
       "0                               enough nothing hours   \n",
       "1  clothes shopping tomorrow hate serious clothes...   \n",
       "2                               bored idea nice site   \n",
       "3             not think want come back guys read dms   \n",
       "4  thomas drinking game tonight not work till tom...   \n",
       "\n",
       "   Length_of_Preprocessed_Text    neg    neu    pos  compound sentiment  class  \n",
       "0                            3  0.000  1.000  0.000    0.0000   neutral      0  \n",
       "1                            9  0.524  0.476  0.000   -0.6808  negative      1  \n",
       "2                            4  0.304  0.290  0.406    0.1779   neutral      0  \n",
       "3                            8  0.149  0.851  0.000   -0.0572  negative      1  \n",
       "4                            8  0.000  1.000  0.000    0.0000   neutral      0  "
      ]
     },
     "execution_count": 77,
     "metadata": {},
     "output_type": "execute_result"
    }
   ],
   "source": [
    "data.head()"
   ]
  },
  {
   "cell_type": "code",
   "execution_count": 82,
   "metadata": {},
   "outputs": [],
   "source": [
    "data.iloc[:,[0,2,3,9]].to_csv(\"preprocessed_data.csv\", index = None)"
   ]
  }
 ],
 "metadata": {
  "kernelspec": {
   "display_name": "Python 3",
   "language": "python",
   "name": "python3"
  },
  "language_info": {
   "codemirror_mode": {
    "name": "ipython",
    "version": 3
   },
   "file_extension": ".py",
   "mimetype": "text/x-python",
   "name": "python",
   "nbconvert_exporter": "python",
   "pygments_lexer": "ipython3",
   "version": "3.7.6"
  }
 },
 "nbformat": 4,
 "nbformat_minor": 4
}
